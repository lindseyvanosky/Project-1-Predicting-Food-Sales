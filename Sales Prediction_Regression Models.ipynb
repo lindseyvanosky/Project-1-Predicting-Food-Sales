{
  "nbformat": 4,
  "nbformat_minor": 0,
  "metadata": {
    "colab": {
      "provenance": [],
      "mount_file_id": "1E0vrXq0Pdu1T4RSsVBfzwqf0g-gtYqQ_",
      "authorship_tag": "ABX9TyMZYGhNsZwNsPn3FZYrEB/f",
      "include_colab_link": true
    },
    "kernelspec": {
      "name": "python3",
      "display_name": "Python 3"
    },
    "language_info": {
      "name": "python"
    }
  },
  "cells": [
    {
      "cell_type": "markdown",
      "metadata": {
        "id": "view-in-github",
        "colab_type": "text"
      },
      "source": [
        "<a href=\"https://colab.research.google.com/github/lindseyvanosky/Project-1-Predicting-Food-Sales/blob/main/Sales%20Prediction%20-%20Regression%20Models.ipynb\" target=\"_parent\"><img src=\"https://colab.research.google.com/assets/colab-badge.svg\" alt=\"Open In Colab\"/></a>"
      ]
    },
    {
      "cell_type": "markdown",
      "source": [
        "##Sales Predictions: Project 1 Final\n",
        "####Prepping Data for Machine Learning, Building Models and Model Evaluation\n",
        "- Lindsey Vanosky \n",
        "- 06.29.22"
      ],
      "metadata": {
        "id": "5bEwex-XKEy0"
      }
    },
    {
      "cell_type": "markdown",
      "source": [
        "#EDA"
      ],
      "metadata": {
        "id": "mp7oMzkSKczu"
      }
    },
    {
      "cell_type": "code",
      "source": [
        "import pandas as pd\n",
        "import numpy as np\n",
        "import matplotlib.pyplot as plt\n",
        "from sklearn.preprocessing import OneHotEncoder, StandardScaler\n",
        "from sklearn.compose import make_column_selector, make_column_transformer\n",
        "from sklearn.impute import SimpleImputer\n",
        "from sklearn.model_selection import train_test_split, GridSearchCV\n",
        "from sklearn.pipeline import make_pipeline\n",
        "from sklearn.linear_model import LinearRegression\n",
        "from sklearn.metrics import mean_absolute_error, mean_squared_error, r2_score\n",
        "from sklearn.ensemble import RandomForestRegressor\n",
        "from sklearn.ensemble import BaggingRegressor\n",
        "from sklearn.tree import DecisionTreeRegressor\n",
        "from sklearn import set_config\n",
        "import seaborn as sns\n",
        "set_config(display='diagram')\n",
        "\n",
        "\n",
        "df = pd.read_csv(\"/content/drive/MyDrive/Data Science/Coding Dojo/01 Stack 1: Data Science Fundamentals/Data Sets/sales_predictions.csv\")\n"
      ],
      "metadata": {
        "id": "anOclicVrqXk"
      },
      "execution_count": 144,
      "outputs": []
    },
    {
      "cell_type": "code",
      "source": [
        "df.info()"
      ],
      "metadata": {
        "colab": {
          "base_uri": "https://localhost:8080/"
        },
        "id": "0dN1KHSwLzPD",
        "outputId": "889c0ac5-1525-414e-ebdf-9540319ec8c1"
      },
      "execution_count": 145,
      "outputs": [
        {
          "output_type": "stream",
          "name": "stdout",
          "text": [
            "<class 'pandas.core.frame.DataFrame'>\n",
            "RangeIndex: 8523 entries, 0 to 8522\n",
            "Data columns (total 12 columns):\n",
            " #   Column                     Non-Null Count  Dtype  \n",
            "---  ------                     --------------  -----  \n",
            " 0   Item_Identifier            8523 non-null   object \n",
            " 1   Item_Weight                7060 non-null   float64\n",
            " 2   Item_Fat_Content           8523 non-null   object \n",
            " 3   Item_Visibility            8523 non-null   float64\n",
            " 4   Item_Type                  8523 non-null   object \n",
            " 5   Item_MRP                   8523 non-null   float64\n",
            " 6   Outlet_Identifier          8523 non-null   object \n",
            " 7   Outlet_Establishment_Year  8523 non-null   int64  \n",
            " 8   Outlet_Size                6113 non-null   object \n",
            " 9   Outlet_Location_Type       8523 non-null   object \n",
            " 10  Outlet_Type                8523 non-null   object \n",
            " 11  Item_Outlet_Sales          8523 non-null   float64\n",
            "dtypes: float64(4), int64(1), object(7)\n",
            "memory usage: 799.2+ KB\n"
          ]
        }
      ]
    },
    {
      "cell_type": "code",
      "source": [
        "df.duplicated().sum()"
      ],
      "metadata": {
        "colab": {
          "base_uri": "https://localhost:8080/"
        },
        "id": "ZLTSjPMUMEKG",
        "outputId": "c944f292-1292-48d4-9d62-f134eaf9b90e"
      },
      "execution_count": 146,
      "outputs": [
        {
          "output_type": "execute_result",
          "data": {
            "text/plain": [
              "0"
            ]
          },
          "metadata": {},
          "execution_count": 146
        }
      ]
    },
    {
      "cell_type": "markdown",
      "source": [
        "#####Dropping irrelevant columns"
      ],
      "metadata": {
        "id": "GA8rYEbM3pUN"
      }
    },
    {
      "cell_type": "code",
      "source": [
        "df.drop(columns = [\"Item_Identifier\", \"Outlet_Identifier\", \"Outlet_Establishment_Year\", \"Item_Weight\"], inplace = True)"
      ],
      "metadata": {
        "id": "NNQrQ9UjNYbZ"
      },
      "execution_count": 147,
      "outputs": []
    },
    {
      "cell_type": "code",
      "source": [
        "df.info()"
      ],
      "metadata": {
        "colab": {
          "base_uri": "https://localhost:8080/"
        },
        "id": "td9ZtgnRJZ68",
        "outputId": "e8347435-310f-42a0-e845-b47a10544810"
      },
      "execution_count": 148,
      "outputs": [
        {
          "output_type": "stream",
          "name": "stdout",
          "text": [
            "<class 'pandas.core.frame.DataFrame'>\n",
            "RangeIndex: 8523 entries, 0 to 8522\n",
            "Data columns (total 8 columns):\n",
            " #   Column                Non-Null Count  Dtype  \n",
            "---  ------                --------------  -----  \n",
            " 0   Item_Fat_Content      8523 non-null   object \n",
            " 1   Item_Visibility       8523 non-null   float64\n",
            " 2   Item_Type             8523 non-null   object \n",
            " 3   Item_MRP              8523 non-null   float64\n",
            " 4   Outlet_Size           6113 non-null   object \n",
            " 5   Outlet_Location_Type  8523 non-null   object \n",
            " 6   Outlet_Type           8523 non-null   object \n",
            " 7   Item_Outlet_Sales     8523 non-null   float64\n",
            "dtypes: float64(3), object(5)\n",
            "memory usage: 532.8+ KB\n"
          ]
        }
      ]
    },
    {
      "cell_type": "markdown",
      "source": [
        "#Define Features and Validation Split"
      ],
      "metadata": {
        "id": "tI-k0S6vMQ94"
      }
    },
    {
      "cell_type": "code",
      "source": [
        "y = df[\"Item_Outlet_Sales\"]\n",
        "x = df.drop(columns = \"Item_Outlet_Sales\")\n",
        "x_train, x_test, y_train, y_test = train_test_split(x, y, random_state=42)"
      ],
      "metadata": {
        "id": "yd6pzopRMtFH"
      },
      "execution_count": 149,
      "outputs": []
    },
    {
      "cell_type": "markdown",
      "source": [
        "##Imputation"
      ],
      "metadata": {
        "id": "mGL-XogDNl1L"
      }
    },
    {
      "cell_type": "markdown",
      "source": [
        "###Value Counts"
      ],
      "metadata": {
        "id": "lGVhM3dSWVPM"
      }
    },
    {
      "cell_type": "code",
      "source": [
        "for col in df.columns:\n",
        "  display(df[col].value_counts())\n",
        "  print('\\n')"
      ],
      "metadata": {
        "colab": {
          "base_uri": "https://localhost:8080/",
          "height": 1000
        },
        "id": "C_DWEV47NnfY",
        "outputId": "3dcc35c0-7d1a-47a0-8134-274e0eea075f"
      },
      "execution_count": 150,
      "outputs": [
        {
          "output_type": "display_data",
          "data": {
            "text/plain": [
              "Low Fat    5089\n",
              "Regular    2889\n",
              "LF          316\n",
              "reg         117\n",
              "low fat     112\n",
              "Name: Item_Fat_Content, dtype: int64"
            ]
          },
          "metadata": {}
        },
        {
          "output_type": "stream",
          "name": "stdout",
          "text": [
            "\n",
            "\n"
          ]
        },
        {
          "output_type": "display_data",
          "data": {
            "text/plain": [
              "0.000000    526\n",
              "0.076975      3\n",
              "0.162462      2\n",
              "0.076841      2\n",
              "0.073562      2\n",
              "           ... \n",
              "0.013957      1\n",
              "0.110460      1\n",
              "0.124646      1\n",
              "0.054142      1\n",
              "0.044878      1\n",
              "Name: Item_Visibility, Length: 7880, dtype: int64"
            ]
          },
          "metadata": {}
        },
        {
          "output_type": "stream",
          "name": "stdout",
          "text": [
            "\n",
            "\n"
          ]
        },
        {
          "output_type": "display_data",
          "data": {
            "text/plain": [
              "Fruits and Vegetables    1232\n",
              "Snack Foods              1200\n",
              "Household                 910\n",
              "Frozen Foods              856\n",
              "Dairy                     682\n",
              "Canned                    649\n",
              "Baking Goods              648\n",
              "Health and Hygiene        520\n",
              "Soft Drinks               445\n",
              "Meat                      425\n",
              "Breads                    251\n",
              "Hard Drinks               214\n",
              "Others                    169\n",
              "Starchy Foods             148\n",
              "Breakfast                 110\n",
              "Seafood                    64\n",
              "Name: Item_Type, dtype: int64"
            ]
          },
          "metadata": {}
        },
        {
          "output_type": "stream",
          "name": "stdout",
          "text": [
            "\n",
            "\n"
          ]
        },
        {
          "output_type": "display_data",
          "data": {
            "text/plain": [
              "172.0422    7\n",
              "170.5422    6\n",
              "196.5084    6\n",
              "188.1872    6\n",
              "142.0154    6\n",
              "           ..\n",
              "97.3384     1\n",
              "83.1934     1\n",
              "96.6752     1\n",
              "152.6682    1\n",
              "75.4670     1\n",
              "Name: Item_MRP, Length: 5938, dtype: int64"
            ]
          },
          "metadata": {}
        },
        {
          "output_type": "stream",
          "name": "stdout",
          "text": [
            "\n",
            "\n"
          ]
        },
        {
          "output_type": "display_data",
          "data": {
            "text/plain": [
              "Medium    2793\n",
              "Small     2388\n",
              "High       932\n",
              "Name: Outlet_Size, dtype: int64"
            ]
          },
          "metadata": {}
        },
        {
          "output_type": "stream",
          "name": "stdout",
          "text": [
            "\n",
            "\n"
          ]
        },
        {
          "output_type": "display_data",
          "data": {
            "text/plain": [
              "Tier 3    3350\n",
              "Tier 2    2785\n",
              "Tier 1    2388\n",
              "Name: Outlet_Location_Type, dtype: int64"
            ]
          },
          "metadata": {}
        },
        {
          "output_type": "stream",
          "name": "stdout",
          "text": [
            "\n",
            "\n"
          ]
        },
        {
          "output_type": "display_data",
          "data": {
            "text/plain": [
              "Supermarket Type1    5577\n",
              "Grocery Store        1083\n",
              "Supermarket Type3     935\n",
              "Supermarket Type2     928\n",
              "Name: Outlet_Type, dtype: int64"
            ]
          },
          "metadata": {}
        },
        {
          "output_type": "stream",
          "name": "stdout",
          "text": [
            "\n",
            "\n"
          ]
        },
        {
          "output_type": "display_data",
          "data": {
            "text/plain": [
              "958.7520     17\n",
              "1342.2528    16\n",
              "703.0848     15\n",
              "1845.5976    15\n",
              "1278.3360    14\n",
              "             ..\n",
              "4124.6310     1\n",
              "6622.7126     1\n",
              "1614.5650     1\n",
              "5602.7070     1\n",
              "2778.3834     1\n",
              "Name: Item_Outlet_Sales, Length: 3493, dtype: int64"
            ]
          },
          "metadata": {}
        },
        {
          "output_type": "stream",
          "name": "stdout",
          "text": [
            "\n",
            "\n"
          ]
        }
      ]
    },
    {
      "cell_type": "code",
      "source": [
        "df.isna().sum()"
      ],
      "metadata": {
        "colab": {
          "base_uri": "https://localhost:8080/"
        },
        "id": "2RFpZf5NIVl1",
        "outputId": "beade88b-a744-4582-9819-21f366f96b65"
      },
      "execution_count": 151,
      "outputs": [
        {
          "output_type": "execute_result",
          "data": {
            "text/plain": [
              "Item_Fat_Content           0\n",
              "Item_Visibility            0\n",
              "Item_Type                  0\n",
              "Item_MRP                   0\n",
              "Outlet_Size             2410\n",
              "Outlet_Location_Type       0\n",
              "Outlet_Type                0\n",
              "Item_Outlet_Sales          0\n",
              "dtype: int64"
            ]
          },
          "metadata": {},
          "execution_count": 151
        }
      ]
    },
    {
      "cell_type": "code",
      "source": [
        "df.dropna(inplace=True)"
      ],
      "metadata": {
        "id": "lymzr8DFKnfU"
      },
      "execution_count": 152,
      "outputs": []
    },
    {
      "cell_type": "code",
      "source": [
        "df.info()"
      ],
      "metadata": {
        "colab": {
          "base_uri": "https://localhost:8080/"
        },
        "id": "JmwWN31AKrOf",
        "outputId": "09da29de-29cc-47d2-d483-937b4cc61ef5"
      },
      "execution_count": 153,
      "outputs": [
        {
          "output_type": "stream",
          "name": "stdout",
          "text": [
            "<class 'pandas.core.frame.DataFrame'>\n",
            "Int64Index: 6113 entries, 0 to 8522\n",
            "Data columns (total 8 columns):\n",
            " #   Column                Non-Null Count  Dtype  \n",
            "---  ------                --------------  -----  \n",
            " 0   Item_Fat_Content      6113 non-null   object \n",
            " 1   Item_Visibility       6113 non-null   float64\n",
            " 2   Item_Type             6113 non-null   object \n",
            " 3   Item_MRP              6113 non-null   float64\n",
            " 4   Outlet_Size           6113 non-null   object \n",
            " 5   Outlet_Location_Type  6113 non-null   object \n",
            " 6   Outlet_Type           6113 non-null   object \n",
            " 7   Item_Outlet_Sales     6113 non-null   float64\n",
            "dtypes: float64(3), object(5)\n",
            "memory usage: 429.8+ KB\n"
          ]
        }
      ]
    },
    {
      "cell_type": "markdown",
      "source": [
        "#Building Column Selectors and Transformers "
      ],
      "metadata": {
        "id": "fcsDWd8lNX63"
      }
    },
    {
      "cell_type": "code",
      "source": [
        "object_selector = make_column_selector(dtype_include=\"object\")\n",
        "number_selector = make_column_selector(dtype_include=\"number\")"
      ],
      "metadata": {
        "id": "zFaM4L43NhqI"
      },
      "execution_count": 154,
      "outputs": []
    },
    {
      "cell_type": "code",
      "source": [
        "freq_imputer = SimpleImputer(strategy = \"most_frequent\")\n",
        "mean_imputer = SimpleImputer(strategy=\"mean\")\n",
        "scaler = StandardScaler()\n",
        "ohe = OneHotEncoder(handle_unknown = \"ignore\", sparse = False)\n"
      ],
      "metadata": {
        "id": "lNTN9jUkX1DS"
      },
      "execution_count": 155,
      "outputs": []
    },
    {
      "cell_type": "markdown",
      "source": [
        "##Building Pipelines"
      ],
      "metadata": {
        "id": "RmCru9AObua7"
      }
    },
    {
      "cell_type": "code",
      "source": [
        "numeric_pipeline = make_pipeline(mean_imputer, scaler)\n",
        "cat_pipeline = make_pipeline(freq_imputer, ohe)\n"
      ],
      "metadata": {
        "id": "hNEzh9Aibyhw"
      },
      "execution_count": 156,
      "outputs": []
    },
    {
      "cell_type": "markdown",
      "source": [
        "#Column Transform"
      ],
      "metadata": {
        "id": "9kHaDOk0c0ai"
      }
    },
    {
      "cell_type": "code",
      "source": [
        "num_tuple = (numeric_pipeline, number_selector)\n",
        "cat_tuple = (cat_pipeline, object_selector)\n",
        "preprocessor = make_column_transformer(num_tuple, cat_tuple)\n",
        "preprocessor"
      ],
      "metadata": {
        "colab": {
          "base_uri": "https://localhost:8080/",
          "height": 152
        },
        "id": "g0y7rGLzc38A",
        "outputId": "3616fc83-753d-4445-8264-b986a1593076"
      },
      "execution_count": 157,
      "outputs": [
        {
          "output_type": "execute_result",
          "data": {
            "text/plain": [
              "ColumnTransformer(transformers=[('pipeline-1',\n",
              "                                 Pipeline(steps=[('simpleimputer',\n",
              "                                                  SimpleImputer()),\n",
              "                                                 ('standardscaler',\n",
              "                                                  StandardScaler())]),\n",
              "                                 <sklearn.compose._column_transformer.make_column_selector object at 0x7ff68ec8f610>),\n",
              "                                ('pipeline-2',\n",
              "                                 Pipeline(steps=[('simpleimputer',\n",
              "                                                  SimpleImputer(strategy='most_frequent')),\n",
              "                                                 ('onehotencoder',\n",
              "                                                  OneHotEncoder(handle_unknown='ignore',\n",
              "                                                                sparse=False))]),\n",
              "                                 <sklearn.compose._column_transformer.make_column_selector object at 0x7ff6a698fe10>)])"
            ],
            "text/html": [
              "<style>#sk-00baee00-2ae0-4c6b-8307-ffe4c1d42fa0 {color: black;background-color: white;}#sk-00baee00-2ae0-4c6b-8307-ffe4c1d42fa0 pre{padding: 0;}#sk-00baee00-2ae0-4c6b-8307-ffe4c1d42fa0 div.sk-toggleable {background-color: white;}#sk-00baee00-2ae0-4c6b-8307-ffe4c1d42fa0 label.sk-toggleable__label {cursor: pointer;display: block;width: 100%;margin-bottom: 0;padding: 0.3em;box-sizing: border-box;text-align: center;}#sk-00baee00-2ae0-4c6b-8307-ffe4c1d42fa0 label.sk-toggleable__label-arrow:before {content: \"▸\";float: left;margin-right: 0.25em;color: #696969;}#sk-00baee00-2ae0-4c6b-8307-ffe4c1d42fa0 label.sk-toggleable__label-arrow:hover:before {color: black;}#sk-00baee00-2ae0-4c6b-8307-ffe4c1d42fa0 div.sk-estimator:hover label.sk-toggleable__label-arrow:before {color: black;}#sk-00baee00-2ae0-4c6b-8307-ffe4c1d42fa0 div.sk-toggleable__content {max-height: 0;max-width: 0;overflow: hidden;text-align: left;background-color: #f0f8ff;}#sk-00baee00-2ae0-4c6b-8307-ffe4c1d42fa0 div.sk-toggleable__content pre {margin: 0.2em;color: black;border-radius: 0.25em;background-color: #f0f8ff;}#sk-00baee00-2ae0-4c6b-8307-ffe4c1d42fa0 input.sk-toggleable__control:checked~div.sk-toggleable__content {max-height: 200px;max-width: 100%;overflow: auto;}#sk-00baee00-2ae0-4c6b-8307-ffe4c1d42fa0 input.sk-toggleable__control:checked~label.sk-toggleable__label-arrow:before {content: \"▾\";}#sk-00baee00-2ae0-4c6b-8307-ffe4c1d42fa0 div.sk-estimator input.sk-toggleable__control:checked~label.sk-toggleable__label {background-color: #d4ebff;}#sk-00baee00-2ae0-4c6b-8307-ffe4c1d42fa0 div.sk-label input.sk-toggleable__control:checked~label.sk-toggleable__label {background-color: #d4ebff;}#sk-00baee00-2ae0-4c6b-8307-ffe4c1d42fa0 input.sk-hidden--visually {border: 0;clip: rect(1px 1px 1px 1px);clip: rect(1px, 1px, 1px, 1px);height: 1px;margin: -1px;overflow: hidden;padding: 0;position: absolute;width: 1px;}#sk-00baee00-2ae0-4c6b-8307-ffe4c1d42fa0 div.sk-estimator {font-family: monospace;background-color: #f0f8ff;border: 1px dotted black;border-radius: 0.25em;box-sizing: border-box;margin-bottom: 0.5em;}#sk-00baee00-2ae0-4c6b-8307-ffe4c1d42fa0 div.sk-estimator:hover {background-color: #d4ebff;}#sk-00baee00-2ae0-4c6b-8307-ffe4c1d42fa0 div.sk-parallel-item::after {content: \"\";width: 100%;border-bottom: 1px solid gray;flex-grow: 1;}#sk-00baee00-2ae0-4c6b-8307-ffe4c1d42fa0 div.sk-label:hover label.sk-toggleable__label {background-color: #d4ebff;}#sk-00baee00-2ae0-4c6b-8307-ffe4c1d42fa0 div.sk-serial::before {content: \"\";position: absolute;border-left: 1px solid gray;box-sizing: border-box;top: 2em;bottom: 0;left: 50%;}#sk-00baee00-2ae0-4c6b-8307-ffe4c1d42fa0 div.sk-serial {display: flex;flex-direction: column;align-items: center;background-color: white;padding-right: 0.2em;padding-left: 0.2em;}#sk-00baee00-2ae0-4c6b-8307-ffe4c1d42fa0 div.sk-item {z-index: 1;}#sk-00baee00-2ae0-4c6b-8307-ffe4c1d42fa0 div.sk-parallel {display: flex;align-items: stretch;justify-content: center;background-color: white;}#sk-00baee00-2ae0-4c6b-8307-ffe4c1d42fa0 div.sk-parallel::before {content: \"\";position: absolute;border-left: 1px solid gray;box-sizing: border-box;top: 2em;bottom: 0;left: 50%;}#sk-00baee00-2ae0-4c6b-8307-ffe4c1d42fa0 div.sk-parallel-item {display: flex;flex-direction: column;position: relative;background-color: white;}#sk-00baee00-2ae0-4c6b-8307-ffe4c1d42fa0 div.sk-parallel-item:first-child::after {align-self: flex-end;width: 50%;}#sk-00baee00-2ae0-4c6b-8307-ffe4c1d42fa0 div.sk-parallel-item:last-child::after {align-self: flex-start;width: 50%;}#sk-00baee00-2ae0-4c6b-8307-ffe4c1d42fa0 div.sk-parallel-item:only-child::after {width: 0;}#sk-00baee00-2ae0-4c6b-8307-ffe4c1d42fa0 div.sk-dashed-wrapped {border: 1px dashed gray;margin: 0 0.4em 0.5em 0.4em;box-sizing: border-box;padding-bottom: 0.4em;background-color: white;position: relative;}#sk-00baee00-2ae0-4c6b-8307-ffe4c1d42fa0 div.sk-label label {font-family: monospace;font-weight: bold;background-color: white;display: inline-block;line-height: 1.2em;}#sk-00baee00-2ae0-4c6b-8307-ffe4c1d42fa0 div.sk-label-container {position: relative;z-index: 2;text-align: center;}#sk-00baee00-2ae0-4c6b-8307-ffe4c1d42fa0 div.sk-container {/* jupyter's `normalize.less` sets `[hidden] { display: none; }` but bootstrap.min.css set `[hidden] { display: none !important; }` so we also need the `!important` here to be able to override the default hidden behavior on the sphinx rendered scikit-learn.org. See: https://github.com/scikit-learn/scikit-learn/issues/21755 */display: inline-block !important;position: relative;}#sk-00baee00-2ae0-4c6b-8307-ffe4c1d42fa0 div.sk-text-repr-fallback {display: none;}</style><div id=\"sk-00baee00-2ae0-4c6b-8307-ffe4c1d42fa0\" class=\"sk-top-container\"><div class=\"sk-text-repr-fallback\"><pre>ColumnTransformer(transformers=[(&#x27;pipeline-1&#x27;,\n",
              "                                 Pipeline(steps=[(&#x27;simpleimputer&#x27;,\n",
              "                                                  SimpleImputer()),\n",
              "                                                 (&#x27;standardscaler&#x27;,\n",
              "                                                  StandardScaler())]),\n",
              "                                 &lt;sklearn.compose._column_transformer.make_column_selector object at 0x7ff68ec8f610&gt;),\n",
              "                                (&#x27;pipeline-2&#x27;,\n",
              "                                 Pipeline(steps=[(&#x27;simpleimputer&#x27;,\n",
              "                                                  SimpleImputer(strategy=&#x27;most_frequent&#x27;)),\n",
              "                                                 (&#x27;onehotencoder&#x27;,\n",
              "                                                  OneHotEncoder(handle_unknown=&#x27;ignore&#x27;,\n",
              "                                                                sparse=False))]),\n",
              "                                 &lt;sklearn.compose._column_transformer.make_column_selector object at 0x7ff6a698fe10&gt;)])</pre><b>Please rerun this cell to show the HTML repr or trust the notebook.</b></div><div class=\"sk-container\" hidden><div class=\"sk-item sk-dashed-wrapped\"><div class=\"sk-label-container\"><div class=\"sk-label sk-toggleable\"><input class=\"sk-toggleable__control sk-hidden--visually\" id=\"67630dbf-f236-490c-b1f1-3b496be7e655\" type=\"checkbox\" ><label for=\"67630dbf-f236-490c-b1f1-3b496be7e655\" class=\"sk-toggleable__label sk-toggleable__label-arrow\">ColumnTransformer</label><div class=\"sk-toggleable__content\"><pre>ColumnTransformer(transformers=[(&#x27;pipeline-1&#x27;,\n",
              "                                 Pipeline(steps=[(&#x27;simpleimputer&#x27;,\n",
              "                                                  SimpleImputer()),\n",
              "                                                 (&#x27;standardscaler&#x27;,\n",
              "                                                  StandardScaler())]),\n",
              "                                 &lt;sklearn.compose._column_transformer.make_column_selector object at 0x7ff68ec8f610&gt;),\n",
              "                                (&#x27;pipeline-2&#x27;,\n",
              "                                 Pipeline(steps=[(&#x27;simpleimputer&#x27;,\n",
              "                                                  SimpleImputer(strategy=&#x27;most_frequent&#x27;)),\n",
              "                                                 (&#x27;onehotencoder&#x27;,\n",
              "                                                  OneHotEncoder(handle_unknown=&#x27;ignore&#x27;,\n",
              "                                                                sparse=False))]),\n",
              "                                 &lt;sklearn.compose._column_transformer.make_column_selector object at 0x7ff6a698fe10&gt;)])</pre></div></div></div><div class=\"sk-parallel\"><div class=\"sk-parallel-item\"><div class=\"sk-item\"><div class=\"sk-label-container\"><div class=\"sk-label sk-toggleable\"><input class=\"sk-toggleable__control sk-hidden--visually\" id=\"cb682883-15e2-4cf9-9686-064a92b3a968\" type=\"checkbox\" ><label for=\"cb682883-15e2-4cf9-9686-064a92b3a968\" class=\"sk-toggleable__label sk-toggleable__label-arrow\">pipeline-1</label><div class=\"sk-toggleable__content\"><pre>&lt;sklearn.compose._column_transformer.make_column_selector object at 0x7ff68ec8f610&gt;</pre></div></div></div><div class=\"sk-serial\"><div class=\"sk-item\"><div class=\"sk-serial\"><div class=\"sk-item\"><div class=\"sk-estimator sk-toggleable\"><input class=\"sk-toggleable__control sk-hidden--visually\" id=\"5394d93e-ed21-44e3-aebc-3c308224f83d\" type=\"checkbox\" ><label for=\"5394d93e-ed21-44e3-aebc-3c308224f83d\" class=\"sk-toggleable__label sk-toggleable__label-arrow\">SimpleImputer</label><div class=\"sk-toggleable__content\"><pre>SimpleImputer()</pre></div></div></div><div class=\"sk-item\"><div class=\"sk-estimator sk-toggleable\"><input class=\"sk-toggleable__control sk-hidden--visually\" id=\"7d6f51bb-5979-4551-8bc6-4dc5934a8c32\" type=\"checkbox\" ><label for=\"7d6f51bb-5979-4551-8bc6-4dc5934a8c32\" class=\"sk-toggleable__label sk-toggleable__label-arrow\">StandardScaler</label><div class=\"sk-toggleable__content\"><pre>StandardScaler()</pre></div></div></div></div></div></div></div></div><div class=\"sk-parallel-item\"><div class=\"sk-item\"><div class=\"sk-label-container\"><div class=\"sk-label sk-toggleable\"><input class=\"sk-toggleable__control sk-hidden--visually\" id=\"cd9c3d4b-338d-4952-bc86-11b62d221fb9\" type=\"checkbox\" ><label for=\"cd9c3d4b-338d-4952-bc86-11b62d221fb9\" class=\"sk-toggleable__label sk-toggleable__label-arrow\">pipeline-2</label><div class=\"sk-toggleable__content\"><pre>&lt;sklearn.compose._column_transformer.make_column_selector object at 0x7ff6a698fe10&gt;</pre></div></div></div><div class=\"sk-serial\"><div class=\"sk-item\"><div class=\"sk-serial\"><div class=\"sk-item\"><div class=\"sk-estimator sk-toggleable\"><input class=\"sk-toggleable__control sk-hidden--visually\" id=\"9f456ce2-b759-4ec3-b2cd-029e9de7d2c7\" type=\"checkbox\" ><label for=\"9f456ce2-b759-4ec3-b2cd-029e9de7d2c7\" class=\"sk-toggleable__label sk-toggleable__label-arrow\">SimpleImputer</label><div class=\"sk-toggleable__content\"><pre>SimpleImputer(strategy=&#x27;most_frequent&#x27;)</pre></div></div></div><div class=\"sk-item\"><div class=\"sk-estimator sk-toggleable\"><input class=\"sk-toggleable__control sk-hidden--visually\" id=\"10d7ecb3-5900-4f5b-9469-28f8bb591805\" type=\"checkbox\" ><label for=\"10d7ecb3-5900-4f5b-9469-28f8bb591805\" class=\"sk-toggleable__label sk-toggleable__label-arrow\">OneHotEncoder</label><div class=\"sk-toggleable__content\"><pre>OneHotEncoder(handle_unknown=&#x27;ignore&#x27;, sparse=False)</pre></div></div></div></div></div></div></div></div></div></div></div></div>"
            ]
          },
          "metadata": {},
          "execution_count": 157
        }
      ]
    },
    {
      "cell_type": "markdown",
      "source": [
        "#Fitting on Train Data"
      ],
      "metadata": {
        "id": "wVEwIMyaduOb"
      }
    },
    {
      "cell_type": "code",
      "source": [
        "preprocessor.fit(x_train)"
      ],
      "metadata": {
        "colab": {
          "base_uri": "https://localhost:8080/",
          "height": 152
        },
        "id": "Lr1OimQIdw9A",
        "outputId": "a8039f97-ec08-49f0-ef10-03519419c390"
      },
      "execution_count": 158,
      "outputs": [
        {
          "output_type": "execute_result",
          "data": {
            "text/plain": [
              "ColumnTransformer(transformers=[('pipeline-1',\n",
              "                                 Pipeline(steps=[('simpleimputer',\n",
              "                                                  SimpleImputer()),\n",
              "                                                 ('standardscaler',\n",
              "                                                  StandardScaler())]),\n",
              "                                 <sklearn.compose._column_transformer.make_column_selector object at 0x7ff68ec8f610>),\n",
              "                                ('pipeline-2',\n",
              "                                 Pipeline(steps=[('simpleimputer',\n",
              "                                                  SimpleImputer(strategy='most_frequent')),\n",
              "                                                 ('onehotencoder',\n",
              "                                                  OneHotEncoder(handle_unknown='ignore',\n",
              "                                                                sparse=False))]),\n",
              "                                 <sklearn.compose._column_transformer.make_column_selector object at 0x7ff6a698fe10>)])"
            ],
            "text/html": [
              "<style>#sk-c9686ecc-acf1-4ef6-a51d-6e6b593c7ea2 {color: black;background-color: white;}#sk-c9686ecc-acf1-4ef6-a51d-6e6b593c7ea2 pre{padding: 0;}#sk-c9686ecc-acf1-4ef6-a51d-6e6b593c7ea2 div.sk-toggleable {background-color: white;}#sk-c9686ecc-acf1-4ef6-a51d-6e6b593c7ea2 label.sk-toggleable__label {cursor: pointer;display: block;width: 100%;margin-bottom: 0;padding: 0.3em;box-sizing: border-box;text-align: center;}#sk-c9686ecc-acf1-4ef6-a51d-6e6b593c7ea2 label.sk-toggleable__label-arrow:before {content: \"▸\";float: left;margin-right: 0.25em;color: #696969;}#sk-c9686ecc-acf1-4ef6-a51d-6e6b593c7ea2 label.sk-toggleable__label-arrow:hover:before {color: black;}#sk-c9686ecc-acf1-4ef6-a51d-6e6b593c7ea2 div.sk-estimator:hover label.sk-toggleable__label-arrow:before {color: black;}#sk-c9686ecc-acf1-4ef6-a51d-6e6b593c7ea2 div.sk-toggleable__content {max-height: 0;max-width: 0;overflow: hidden;text-align: left;background-color: #f0f8ff;}#sk-c9686ecc-acf1-4ef6-a51d-6e6b593c7ea2 div.sk-toggleable__content pre {margin: 0.2em;color: black;border-radius: 0.25em;background-color: #f0f8ff;}#sk-c9686ecc-acf1-4ef6-a51d-6e6b593c7ea2 input.sk-toggleable__control:checked~div.sk-toggleable__content {max-height: 200px;max-width: 100%;overflow: auto;}#sk-c9686ecc-acf1-4ef6-a51d-6e6b593c7ea2 input.sk-toggleable__control:checked~label.sk-toggleable__label-arrow:before {content: \"▾\";}#sk-c9686ecc-acf1-4ef6-a51d-6e6b593c7ea2 div.sk-estimator input.sk-toggleable__control:checked~label.sk-toggleable__label {background-color: #d4ebff;}#sk-c9686ecc-acf1-4ef6-a51d-6e6b593c7ea2 div.sk-label input.sk-toggleable__control:checked~label.sk-toggleable__label {background-color: #d4ebff;}#sk-c9686ecc-acf1-4ef6-a51d-6e6b593c7ea2 input.sk-hidden--visually {border: 0;clip: rect(1px 1px 1px 1px);clip: rect(1px, 1px, 1px, 1px);height: 1px;margin: -1px;overflow: hidden;padding: 0;position: absolute;width: 1px;}#sk-c9686ecc-acf1-4ef6-a51d-6e6b593c7ea2 div.sk-estimator {font-family: monospace;background-color: #f0f8ff;border: 1px dotted black;border-radius: 0.25em;box-sizing: border-box;margin-bottom: 0.5em;}#sk-c9686ecc-acf1-4ef6-a51d-6e6b593c7ea2 div.sk-estimator:hover {background-color: #d4ebff;}#sk-c9686ecc-acf1-4ef6-a51d-6e6b593c7ea2 div.sk-parallel-item::after {content: \"\";width: 100%;border-bottom: 1px solid gray;flex-grow: 1;}#sk-c9686ecc-acf1-4ef6-a51d-6e6b593c7ea2 div.sk-label:hover label.sk-toggleable__label {background-color: #d4ebff;}#sk-c9686ecc-acf1-4ef6-a51d-6e6b593c7ea2 div.sk-serial::before {content: \"\";position: absolute;border-left: 1px solid gray;box-sizing: border-box;top: 2em;bottom: 0;left: 50%;}#sk-c9686ecc-acf1-4ef6-a51d-6e6b593c7ea2 div.sk-serial {display: flex;flex-direction: column;align-items: center;background-color: white;padding-right: 0.2em;padding-left: 0.2em;}#sk-c9686ecc-acf1-4ef6-a51d-6e6b593c7ea2 div.sk-item {z-index: 1;}#sk-c9686ecc-acf1-4ef6-a51d-6e6b593c7ea2 div.sk-parallel {display: flex;align-items: stretch;justify-content: center;background-color: white;}#sk-c9686ecc-acf1-4ef6-a51d-6e6b593c7ea2 div.sk-parallel::before {content: \"\";position: absolute;border-left: 1px solid gray;box-sizing: border-box;top: 2em;bottom: 0;left: 50%;}#sk-c9686ecc-acf1-4ef6-a51d-6e6b593c7ea2 div.sk-parallel-item {display: flex;flex-direction: column;position: relative;background-color: white;}#sk-c9686ecc-acf1-4ef6-a51d-6e6b593c7ea2 div.sk-parallel-item:first-child::after {align-self: flex-end;width: 50%;}#sk-c9686ecc-acf1-4ef6-a51d-6e6b593c7ea2 div.sk-parallel-item:last-child::after {align-self: flex-start;width: 50%;}#sk-c9686ecc-acf1-4ef6-a51d-6e6b593c7ea2 div.sk-parallel-item:only-child::after {width: 0;}#sk-c9686ecc-acf1-4ef6-a51d-6e6b593c7ea2 div.sk-dashed-wrapped {border: 1px dashed gray;margin: 0 0.4em 0.5em 0.4em;box-sizing: border-box;padding-bottom: 0.4em;background-color: white;position: relative;}#sk-c9686ecc-acf1-4ef6-a51d-6e6b593c7ea2 div.sk-label label {font-family: monospace;font-weight: bold;background-color: white;display: inline-block;line-height: 1.2em;}#sk-c9686ecc-acf1-4ef6-a51d-6e6b593c7ea2 div.sk-label-container {position: relative;z-index: 2;text-align: center;}#sk-c9686ecc-acf1-4ef6-a51d-6e6b593c7ea2 div.sk-container {/* jupyter's `normalize.less` sets `[hidden] { display: none; }` but bootstrap.min.css set `[hidden] { display: none !important; }` so we also need the `!important` here to be able to override the default hidden behavior on the sphinx rendered scikit-learn.org. See: https://github.com/scikit-learn/scikit-learn/issues/21755 */display: inline-block !important;position: relative;}#sk-c9686ecc-acf1-4ef6-a51d-6e6b593c7ea2 div.sk-text-repr-fallback {display: none;}</style><div id=\"sk-c9686ecc-acf1-4ef6-a51d-6e6b593c7ea2\" class=\"sk-top-container\"><div class=\"sk-text-repr-fallback\"><pre>ColumnTransformer(transformers=[(&#x27;pipeline-1&#x27;,\n",
              "                                 Pipeline(steps=[(&#x27;simpleimputer&#x27;,\n",
              "                                                  SimpleImputer()),\n",
              "                                                 (&#x27;standardscaler&#x27;,\n",
              "                                                  StandardScaler())]),\n",
              "                                 &lt;sklearn.compose._column_transformer.make_column_selector object at 0x7ff68ec8f610&gt;),\n",
              "                                (&#x27;pipeline-2&#x27;,\n",
              "                                 Pipeline(steps=[(&#x27;simpleimputer&#x27;,\n",
              "                                                  SimpleImputer(strategy=&#x27;most_frequent&#x27;)),\n",
              "                                                 (&#x27;onehotencoder&#x27;,\n",
              "                                                  OneHotEncoder(handle_unknown=&#x27;ignore&#x27;,\n",
              "                                                                sparse=False))]),\n",
              "                                 &lt;sklearn.compose._column_transformer.make_column_selector object at 0x7ff6a698fe10&gt;)])</pre><b>Please rerun this cell to show the HTML repr or trust the notebook.</b></div><div class=\"sk-container\" hidden><div class=\"sk-item sk-dashed-wrapped\"><div class=\"sk-label-container\"><div class=\"sk-label sk-toggleable\"><input class=\"sk-toggleable__control sk-hidden--visually\" id=\"4e85960f-b72b-4a2c-aec1-51a4047a4f8d\" type=\"checkbox\" ><label for=\"4e85960f-b72b-4a2c-aec1-51a4047a4f8d\" class=\"sk-toggleable__label sk-toggleable__label-arrow\">ColumnTransformer</label><div class=\"sk-toggleable__content\"><pre>ColumnTransformer(transformers=[(&#x27;pipeline-1&#x27;,\n",
              "                                 Pipeline(steps=[(&#x27;simpleimputer&#x27;,\n",
              "                                                  SimpleImputer()),\n",
              "                                                 (&#x27;standardscaler&#x27;,\n",
              "                                                  StandardScaler())]),\n",
              "                                 &lt;sklearn.compose._column_transformer.make_column_selector object at 0x7ff68ec8f610&gt;),\n",
              "                                (&#x27;pipeline-2&#x27;,\n",
              "                                 Pipeline(steps=[(&#x27;simpleimputer&#x27;,\n",
              "                                                  SimpleImputer(strategy=&#x27;most_frequent&#x27;)),\n",
              "                                                 (&#x27;onehotencoder&#x27;,\n",
              "                                                  OneHotEncoder(handle_unknown=&#x27;ignore&#x27;,\n",
              "                                                                sparse=False))]),\n",
              "                                 &lt;sklearn.compose._column_transformer.make_column_selector object at 0x7ff6a698fe10&gt;)])</pre></div></div></div><div class=\"sk-parallel\"><div class=\"sk-parallel-item\"><div class=\"sk-item\"><div class=\"sk-label-container\"><div class=\"sk-label sk-toggleable\"><input class=\"sk-toggleable__control sk-hidden--visually\" id=\"ef3d8d6c-8f74-4001-9662-292b1dc7d7b3\" type=\"checkbox\" ><label for=\"ef3d8d6c-8f74-4001-9662-292b1dc7d7b3\" class=\"sk-toggleable__label sk-toggleable__label-arrow\">pipeline-1</label><div class=\"sk-toggleable__content\"><pre>&lt;sklearn.compose._column_transformer.make_column_selector object at 0x7ff68ec8f610&gt;</pre></div></div></div><div class=\"sk-serial\"><div class=\"sk-item\"><div class=\"sk-serial\"><div class=\"sk-item\"><div class=\"sk-estimator sk-toggleable\"><input class=\"sk-toggleable__control sk-hidden--visually\" id=\"36b99eb8-45bb-4db3-92bc-a5f773b7d67a\" type=\"checkbox\" ><label for=\"36b99eb8-45bb-4db3-92bc-a5f773b7d67a\" class=\"sk-toggleable__label sk-toggleable__label-arrow\">SimpleImputer</label><div class=\"sk-toggleable__content\"><pre>SimpleImputer()</pre></div></div></div><div class=\"sk-item\"><div class=\"sk-estimator sk-toggleable\"><input class=\"sk-toggleable__control sk-hidden--visually\" id=\"2bf30d3d-13ad-4e5d-9349-544fdd5bb5d5\" type=\"checkbox\" ><label for=\"2bf30d3d-13ad-4e5d-9349-544fdd5bb5d5\" class=\"sk-toggleable__label sk-toggleable__label-arrow\">StandardScaler</label><div class=\"sk-toggleable__content\"><pre>StandardScaler()</pre></div></div></div></div></div></div></div></div><div class=\"sk-parallel-item\"><div class=\"sk-item\"><div class=\"sk-label-container\"><div class=\"sk-label sk-toggleable\"><input class=\"sk-toggleable__control sk-hidden--visually\" id=\"c12b6625-7be2-453c-9a8e-3d5039e71daa\" type=\"checkbox\" ><label for=\"c12b6625-7be2-453c-9a8e-3d5039e71daa\" class=\"sk-toggleable__label sk-toggleable__label-arrow\">pipeline-2</label><div class=\"sk-toggleable__content\"><pre>&lt;sklearn.compose._column_transformer.make_column_selector object at 0x7ff6a698fe10&gt;</pre></div></div></div><div class=\"sk-serial\"><div class=\"sk-item\"><div class=\"sk-serial\"><div class=\"sk-item\"><div class=\"sk-estimator sk-toggleable\"><input class=\"sk-toggleable__control sk-hidden--visually\" id=\"fcce5048-cd31-4a22-9917-0de32b09a5df\" type=\"checkbox\" ><label for=\"fcce5048-cd31-4a22-9917-0de32b09a5df\" class=\"sk-toggleable__label sk-toggleable__label-arrow\">SimpleImputer</label><div class=\"sk-toggleable__content\"><pre>SimpleImputer(strategy=&#x27;most_frequent&#x27;)</pre></div></div></div><div class=\"sk-item\"><div class=\"sk-estimator sk-toggleable\"><input class=\"sk-toggleable__control sk-hidden--visually\" id=\"ac86afcd-597b-4ba1-9f30-e6d48523ed44\" type=\"checkbox\" ><label for=\"ac86afcd-597b-4ba1-9f30-e6d48523ed44\" class=\"sk-toggleable__label sk-toggleable__label-arrow\">OneHotEncoder</label><div class=\"sk-toggleable__content\"><pre>OneHotEncoder(handle_unknown=&#x27;ignore&#x27;, sparse=False)</pre></div></div></div></div></div></div></div></div></div></div></div></div>"
            ]
          },
          "metadata": {},
          "execution_count": 158
        }
      ]
    },
    {
      "cell_type": "markdown",
      "source": [
        "#Transforming Data"
      ],
      "metadata": {
        "id": "fBOQ7eIzeDV3"
      }
    },
    {
      "cell_type": "code",
      "source": [
        "x_train_processed = preprocessor.transform(x_train)\n",
        "x_test_processed = preprocessor.transform(x_test)"
      ],
      "metadata": {
        "id": "SlIvvyIxd7dn"
      },
      "execution_count": 159,
      "outputs": []
    },
    {
      "cell_type": "code",
      "source": [
        "print(np.isnan(x_train_processed).sum().sum(), 'missing values in training data')\n",
        "print(np.isnan(x_test_processed).sum().sum(), 'missing values in testing data')\n",
        "print('\\n')\n",
        "print('All data in X_train_processed are', x_train_processed.dtype)\n",
        "print('All data in X_test_processed are', x_test_processed.dtype)\n",
        "print('\\n')\n",
        "print('shape of data is', x_train_processed.shape)\n",
        "print('\\n')\n",
        "x_train_processed"
      ],
      "metadata": {
        "colab": {
          "base_uri": "https://localhost:8080/"
        },
        "id": "uOmaLRYPePym",
        "outputId": "81f229b1-2432-43c8-bdcd-fee6b2720fc4"
      },
      "execution_count": 160,
      "outputs": [
        {
          "output_type": "stream",
          "name": "stdout",
          "text": [
            "0 missing values in training data\n",
            "0 missing values in testing data\n",
            "\n",
            "\n",
            "All data in X_train_processed are float64\n",
            "All data in X_test_processed are float64\n",
            "\n",
            "\n",
            "shape of data is (6392, 33)\n",
            "\n",
            "\n"
          ]
        },
        {
          "output_type": "execute_result",
          "data": {
            "text/plain": [
              "array([[-0.71277507,  1.82810922,  0.        , ...,  0.        ,\n",
              "         1.        ,  0.        ],\n",
              "       [-1.29105225,  0.60336888,  0.        , ...,  0.        ,\n",
              "         1.        ,  0.        ],\n",
              "       [ 1.81331864,  0.24454056,  0.        , ...,  1.        ,\n",
              "         0.        ,  0.        ],\n",
              "       ...,\n",
              "       [-0.92052713,  1.52302674,  0.        , ...,  1.        ,\n",
              "         0.        ,  0.        ],\n",
              "       [-0.2277552 , -0.38377708,  0.        , ...,  1.        ,\n",
              "         0.        ,  0.        ],\n",
              "       [-0.95867683, -0.73836105,  1.        , ...,  1.        ,\n",
              "         0.        ,  0.        ]])"
            ]
          },
          "metadata": {},
          "execution_count": 160
        }
      ]
    },
    {
      "cell_type": "code",
      "source": [
        "x_train_df = pd.DataFrame(x_train_processed)\n",
        "x_train_df.head()"
      ],
      "metadata": {
        "colab": {
          "base_uri": "https://localhost:8080/",
          "height": 236
        },
        "id": "k_G4DWJUSzh4",
        "outputId": "f792fc77-48ea-4edf-e461-ae220b628be2"
      },
      "execution_count": 161,
      "outputs": [
        {
          "output_type": "execute_result",
          "data": {
            "text/plain": [
              "         0         1    2    3    4    5    6    7    8    9   ...   23   24  \\\n",
              "0 -0.712775  1.828109  0.0  1.0  0.0  0.0  0.0  0.0  0.0  0.0  ...  0.0  1.0   \n",
              "1 -1.291052  0.603369  0.0  0.0  1.0  0.0  0.0  0.0  0.0  0.0  ...  0.0  1.0   \n",
              "2  1.813319  0.244541  0.0  0.0  1.0  0.0  0.0  0.0  0.0  0.0  ...  0.0  1.0   \n",
              "3 -1.004931 -0.952591  0.0  1.0  0.0  0.0  0.0  1.0  0.0  0.0  ...  0.0  0.0   \n",
              "4 -0.965484 -0.336460  0.0  1.0  0.0  0.0  0.0  0.0  0.0  0.0  ...  0.0  1.0   \n",
              "\n",
              "    25   26   27   28   29   30   31   32  \n",
              "0  0.0  0.0  0.0  1.0  0.0  0.0  1.0  0.0  \n",
              "1  0.0  0.0  0.0  1.0  0.0  0.0  1.0  0.0  \n",
              "2  0.0  1.0  0.0  0.0  0.0  1.0  0.0  0.0  \n",
              "3  1.0  0.0  1.0  0.0  0.0  1.0  0.0  0.0  \n",
              "4  0.0  0.0  1.0  0.0  0.0  1.0  0.0  0.0  \n",
              "\n",
              "[5 rows x 33 columns]"
            ],
            "text/html": [
              "\n",
              "  <div id=\"df-537d9c84-789e-4675-947e-6e3747827048\">\n",
              "    <div class=\"colab-df-container\">\n",
              "      <div>\n",
              "<style scoped>\n",
              "    .dataframe tbody tr th:only-of-type {\n",
              "        vertical-align: middle;\n",
              "    }\n",
              "\n",
              "    .dataframe tbody tr th {\n",
              "        vertical-align: top;\n",
              "    }\n",
              "\n",
              "    .dataframe thead th {\n",
              "        text-align: right;\n",
              "    }\n",
              "</style>\n",
              "<table border=\"1\" class=\"dataframe\">\n",
              "  <thead>\n",
              "    <tr style=\"text-align: right;\">\n",
              "      <th></th>\n",
              "      <th>0</th>\n",
              "      <th>1</th>\n",
              "      <th>2</th>\n",
              "      <th>3</th>\n",
              "      <th>4</th>\n",
              "      <th>5</th>\n",
              "      <th>6</th>\n",
              "      <th>7</th>\n",
              "      <th>8</th>\n",
              "      <th>9</th>\n",
              "      <th>...</th>\n",
              "      <th>23</th>\n",
              "      <th>24</th>\n",
              "      <th>25</th>\n",
              "      <th>26</th>\n",
              "      <th>27</th>\n",
              "      <th>28</th>\n",
              "      <th>29</th>\n",
              "      <th>30</th>\n",
              "      <th>31</th>\n",
              "      <th>32</th>\n",
              "    </tr>\n",
              "  </thead>\n",
              "  <tbody>\n",
              "    <tr>\n",
              "      <th>0</th>\n",
              "      <td>-0.712775</td>\n",
              "      <td>1.828109</td>\n",
              "      <td>0.0</td>\n",
              "      <td>1.0</td>\n",
              "      <td>0.0</td>\n",
              "      <td>0.0</td>\n",
              "      <td>0.0</td>\n",
              "      <td>0.0</td>\n",
              "      <td>0.0</td>\n",
              "      <td>0.0</td>\n",
              "      <td>...</td>\n",
              "      <td>0.0</td>\n",
              "      <td>1.0</td>\n",
              "      <td>0.0</td>\n",
              "      <td>0.0</td>\n",
              "      <td>0.0</td>\n",
              "      <td>1.0</td>\n",
              "      <td>0.0</td>\n",
              "      <td>0.0</td>\n",
              "      <td>1.0</td>\n",
              "      <td>0.0</td>\n",
              "    </tr>\n",
              "    <tr>\n",
              "      <th>1</th>\n",
              "      <td>-1.291052</td>\n",
              "      <td>0.603369</td>\n",
              "      <td>0.0</td>\n",
              "      <td>0.0</td>\n",
              "      <td>1.0</td>\n",
              "      <td>0.0</td>\n",
              "      <td>0.0</td>\n",
              "      <td>0.0</td>\n",
              "      <td>0.0</td>\n",
              "      <td>0.0</td>\n",
              "      <td>...</td>\n",
              "      <td>0.0</td>\n",
              "      <td>1.0</td>\n",
              "      <td>0.0</td>\n",
              "      <td>0.0</td>\n",
              "      <td>0.0</td>\n",
              "      <td>1.0</td>\n",
              "      <td>0.0</td>\n",
              "      <td>0.0</td>\n",
              "      <td>1.0</td>\n",
              "      <td>0.0</td>\n",
              "    </tr>\n",
              "    <tr>\n",
              "      <th>2</th>\n",
              "      <td>1.813319</td>\n",
              "      <td>0.244541</td>\n",
              "      <td>0.0</td>\n",
              "      <td>0.0</td>\n",
              "      <td>1.0</td>\n",
              "      <td>0.0</td>\n",
              "      <td>0.0</td>\n",
              "      <td>0.0</td>\n",
              "      <td>0.0</td>\n",
              "      <td>0.0</td>\n",
              "      <td>...</td>\n",
              "      <td>0.0</td>\n",
              "      <td>1.0</td>\n",
              "      <td>0.0</td>\n",
              "      <td>1.0</td>\n",
              "      <td>0.0</td>\n",
              "      <td>0.0</td>\n",
              "      <td>0.0</td>\n",
              "      <td>1.0</td>\n",
              "      <td>0.0</td>\n",
              "      <td>0.0</td>\n",
              "    </tr>\n",
              "    <tr>\n",
              "      <th>3</th>\n",
              "      <td>-1.004931</td>\n",
              "      <td>-0.952591</td>\n",
              "      <td>0.0</td>\n",
              "      <td>1.0</td>\n",
              "      <td>0.0</td>\n",
              "      <td>0.0</td>\n",
              "      <td>0.0</td>\n",
              "      <td>1.0</td>\n",
              "      <td>0.0</td>\n",
              "      <td>0.0</td>\n",
              "      <td>...</td>\n",
              "      <td>0.0</td>\n",
              "      <td>0.0</td>\n",
              "      <td>1.0</td>\n",
              "      <td>0.0</td>\n",
              "      <td>1.0</td>\n",
              "      <td>0.0</td>\n",
              "      <td>0.0</td>\n",
              "      <td>1.0</td>\n",
              "      <td>0.0</td>\n",
              "      <td>0.0</td>\n",
              "    </tr>\n",
              "    <tr>\n",
              "      <th>4</th>\n",
              "      <td>-0.965484</td>\n",
              "      <td>-0.336460</td>\n",
              "      <td>0.0</td>\n",
              "      <td>1.0</td>\n",
              "      <td>0.0</td>\n",
              "      <td>0.0</td>\n",
              "      <td>0.0</td>\n",
              "      <td>0.0</td>\n",
              "      <td>0.0</td>\n",
              "      <td>0.0</td>\n",
              "      <td>...</td>\n",
              "      <td>0.0</td>\n",
              "      <td>1.0</td>\n",
              "      <td>0.0</td>\n",
              "      <td>0.0</td>\n",
              "      <td>1.0</td>\n",
              "      <td>0.0</td>\n",
              "      <td>0.0</td>\n",
              "      <td>1.0</td>\n",
              "      <td>0.0</td>\n",
              "      <td>0.0</td>\n",
              "    </tr>\n",
              "  </tbody>\n",
              "</table>\n",
              "<p>5 rows × 33 columns</p>\n",
              "</div>\n",
              "      <button class=\"colab-df-convert\" onclick=\"convertToInteractive('df-537d9c84-789e-4675-947e-6e3747827048')\"\n",
              "              title=\"Convert this dataframe to an interactive table.\"\n",
              "              style=\"display:none;\">\n",
              "        \n",
              "  <svg xmlns=\"http://www.w3.org/2000/svg\" height=\"24px\"viewBox=\"0 0 24 24\"\n",
              "       width=\"24px\">\n",
              "    <path d=\"M0 0h24v24H0V0z\" fill=\"none\"/>\n",
              "    <path d=\"M18.56 5.44l.94 2.06.94-2.06 2.06-.94-2.06-.94-.94-2.06-.94 2.06-2.06.94zm-11 1L8.5 8.5l.94-2.06 2.06-.94-2.06-.94L8.5 2.5l-.94 2.06-2.06.94zm10 10l.94 2.06.94-2.06 2.06-.94-2.06-.94-.94-2.06-.94 2.06-2.06.94z\"/><path d=\"M17.41 7.96l-1.37-1.37c-.4-.4-.92-.59-1.43-.59-.52 0-1.04.2-1.43.59L10.3 9.45l-7.72 7.72c-.78.78-.78 2.05 0 2.83L4 21.41c.39.39.9.59 1.41.59.51 0 1.02-.2 1.41-.59l7.78-7.78 2.81-2.81c.8-.78.8-2.07 0-2.86zM5.41 20L4 18.59l7.72-7.72 1.47 1.35L5.41 20z\"/>\n",
              "  </svg>\n",
              "      </button>\n",
              "      \n",
              "  <style>\n",
              "    .colab-df-container {\n",
              "      display:flex;\n",
              "      flex-wrap:wrap;\n",
              "      gap: 12px;\n",
              "    }\n",
              "\n",
              "    .colab-df-convert {\n",
              "      background-color: #E8F0FE;\n",
              "      border: none;\n",
              "      border-radius: 50%;\n",
              "      cursor: pointer;\n",
              "      display: none;\n",
              "      fill: #1967D2;\n",
              "      height: 32px;\n",
              "      padding: 0 0 0 0;\n",
              "      width: 32px;\n",
              "    }\n",
              "\n",
              "    .colab-df-convert:hover {\n",
              "      background-color: #E2EBFA;\n",
              "      box-shadow: 0px 1px 2px rgba(60, 64, 67, 0.3), 0px 1px 3px 1px rgba(60, 64, 67, 0.15);\n",
              "      fill: #174EA6;\n",
              "    }\n",
              "\n",
              "    [theme=dark] .colab-df-convert {\n",
              "      background-color: #3B4455;\n",
              "      fill: #D2E3FC;\n",
              "    }\n",
              "\n",
              "    [theme=dark] .colab-df-convert:hover {\n",
              "      background-color: #434B5C;\n",
              "      box-shadow: 0px 1px 3px 1px rgba(0, 0, 0, 0.15);\n",
              "      filter: drop-shadow(0px 1px 2px rgba(0, 0, 0, 0.3));\n",
              "      fill: #FFFFFF;\n",
              "    }\n",
              "  </style>\n",
              "\n",
              "      <script>\n",
              "        const buttonEl =\n",
              "          document.querySelector('#df-537d9c84-789e-4675-947e-6e3747827048 button.colab-df-convert');\n",
              "        buttonEl.style.display =\n",
              "          google.colab.kernel.accessAllowed ? 'block' : 'none';\n",
              "\n",
              "        async function convertToInteractive(key) {\n",
              "          const element = document.querySelector('#df-537d9c84-789e-4675-947e-6e3747827048');\n",
              "          const dataTable =\n",
              "            await google.colab.kernel.invokeFunction('convertToInteractive',\n",
              "                                                     [key], {});\n",
              "          if (!dataTable) return;\n",
              "\n",
              "          const docLinkHtml = 'Like what you see? Visit the ' +\n",
              "            '<a target=\"_blank\" href=https://colab.research.google.com/notebooks/data_table.ipynb>data table notebook</a>'\n",
              "            + ' to learn more about interactive tables.';\n",
              "          element.innerHTML = '';\n",
              "          dataTable['output_type'] = 'display_data';\n",
              "          await google.colab.output.renderOutput(dataTable, element);\n",
              "          const docLink = document.createElement('div');\n",
              "          docLink.innerHTML = docLinkHtml;\n",
              "          element.appendChild(docLink);\n",
              "        }\n",
              "      </script>\n",
              "    </div>\n",
              "  </div>\n",
              "  "
            ]
          },
          "metadata": {},
          "execution_count": 161
        }
      ]
    },
    {
      "cell_type": "markdown",
      "source": [
        "#Linear Regression"
      ],
      "metadata": {
        "id": "WSGJ_tbwKfL7"
      }
    },
    {
      "cell_type": "markdown",
      "source": [
        "####Determining Correlations"
      ],
      "metadata": {
        "id": "2ZqWp2RmOglD"
      }
    },
    {
      "cell_type": "code",
      "source": [
        "corr = df.corr()\n",
        "sns.heatmap(corr, cmap = \"coolwarm\", annot = True);"
      ],
      "metadata": {
        "colab": {
          "base_uri": "https://localhost:8080/",
          "height": 270
        },
        "id": "AF9UEGTZKh2j",
        "outputId": "1a7f8872-693a-4480-f496-9ebe11ad4f6f"
      },
      "execution_count": 162,
      "outputs": [
        {
          "output_type": "display_data",
          "data": {
            "text/plain": [
              "<Figure size 432x288 with 2 Axes>"
            ],
            "image/png": "[encoded data removed]"
          },
          "metadata": {
            "needs_background": "light"
          }
        }
      ]
    },
    {
      "cell_type": "markdown",
      "source": [
        "Based off of these correlations, it looks like we can drop the Item Weight column, as it does not provide any correlation across the features. Knowing this, I am going to add \"Item Weight\" to the dropped columns above. Meaning Item Weight is no longer represented in this heatmap. We will keep the remaining features. "
      ],
      "metadata": {
        "id": "G_TrNioERJoy"
      }
    },
    {
      "cell_type": "markdown",
      "source": [
        "###Instantiation"
      ],
      "metadata": {
        "id": "oOkM6vzxTpPx"
      }
    },
    {
      "cell_type": "code",
      "source": [
        "reg = LinearRegression()\n",
        "reg_pipe = reg.fit(x_train_processed, y_train)"
      ],
      "metadata": {
        "id": "r4FkcN83Rc2f"
      },
      "execution_count": 163,
      "outputs": []
    },
    {
      "cell_type": "markdown",
      "source": [
        "###Creating Predictions"
      ],
      "metadata": {
        "id": "bFEvI6sLUauW"
      }
    },
    {
      "cell_type": "code",
      "source": [
        "train_pred = reg_pipe.predict(x_train_processed)\n",
        "test_pred = reg_pipe.predict(x_test_processed)"
      ],
      "metadata": {
        "id": "TjF24tRRUaaQ"
      },
      "execution_count": 164,
      "outputs": []
    },
    {
      "cell_type": "markdown",
      "source": [
        "###Evaluating r2"
      ],
      "metadata": {
        "id": "B-A0lIxGVoDP"
      }
    },
    {
      "cell_type": "code",
      "source": [
        "train_r2 = r2_score(y_train, train_pred)\n",
        "test_r2 = r2_score(y_test, test_pred)\n",
        "\n",
        "print(train_r2)\n",
        "print(test_r2)"
      ],
      "metadata": {
        "colab": {
          "base_uri": "https://localhost:8080/"
        },
        "id": "v2I8ICXXVs8Z",
        "outputId": "bbf2259f-3e1b-4568-a916-c0439cb0ece5"
      },
      "execution_count": 165,
      "outputs": [
        {
          "output_type": "stream",
          "name": "stdout",
          "text": [
            "0.5607074795470389\n",
            "0.5655273175721165\n"
          ]
        }
      ]
    },
    {
      "cell_type": "markdown",
      "source": [
        "###Evaluating RMSE"
      ],
      "metadata": {
        "id": "5wS__g5SWNiK"
      }
    },
    {
      "cell_type": "code",
      "source": [
        "train_MSE = mean_squared_error(y_train, train_pred)\n",
        "test_MSE = mean_squared_error(y_test, test_pred)\n",
        "\n",
        "train_RMSE = np.sqrt(train_MSE)\n",
        "test_RMSE = np.sqrt(test_MSE)\n",
        "\n",
        "print(train_RMSE)\n",
        "print(test_RMSE)"
      ],
      "metadata": {
        "colab": {
          "base_uri": "https://localhost:8080/"
        },
        "id": "Er6dJoJFWQTk",
        "outputId": "a5ef7a05-d97a-4d93-d9e7-0fec7586f3bc"
      },
      "execution_count": 166,
      "outputs": [
        {
          "output_type": "stream",
          "name": "stdout",
          "text": [
            "1140.2046989950381\n",
            "1094.8517082194119\n"
          ]
        }
      ]
    },
    {
      "cell_type": "markdown",
      "source": [
        "Based on these two metrics, we can see that our r2 score explains 56% of the data, which is not good. However, while our RMSE score looks good, those numbers are representing millions of dollars. RMSE is telling us that on average, we have a difference of 1,094,851 which is a lot of money! However, our model is fitting equally on both test and training sets. "
      ],
      "metadata": {
        "id": "SK-zK6QyWwDJ"
      }
    },
    {
      "cell_type": "markdown",
      "source": [
        "#Regression Tree"
      ],
      "metadata": {
        "id": "I7LYIsh0aATY"
      }
    },
    {
      "cell_type": "code",
      "source": [
        "reg_tree = DecisionTreeRegressor(random_state = 42)\n",
        "reg_tree.fit(x_train_processed, y_train)"
      ],
      "metadata": {
        "colab": {
          "base_uri": "https://localhost:8080/",
          "height": 75
        },
        "id": "TQnLwRguaEdF",
        "outputId": "8e465505-9490-4b4e-c52f-a4e5f0e0ed5e"
      },
      "execution_count": 167,
      "outputs": [
        {
          "output_type": "execute_result",
          "data": {
            "text/plain": [
              "DecisionTreeRegressor(random_state=42)"
            ],
            "text/html": [
              "<style>#sk-8564fcf8-efca-4601-af2c-a13902884a19 {color: black;background-color: white;}#sk-8564fcf8-efca-4601-af2c-a13902884a19 pre{padding: 0;}#sk-8564fcf8-efca-4601-af2c-a13902884a19 div.sk-toggleable {background-color: white;}#sk-8564fcf8-efca-4601-af2c-a13902884a19 label.sk-toggleable__label {cursor: pointer;display: block;width: 100%;margin-bottom: 0;padding: 0.3em;box-sizing: border-box;text-align: center;}#sk-8564fcf8-efca-4601-af2c-a13902884a19 label.sk-toggleable__label-arrow:before {content: \"▸\";float: left;margin-right: 0.25em;color: #696969;}#sk-8564fcf8-efca-4601-af2c-a13902884a19 label.sk-toggleable__label-arrow:hover:before {color: black;}#sk-8564fcf8-efca-4601-af2c-a13902884a19 div.sk-estimator:hover label.sk-toggleable__label-arrow:before {color: black;}#sk-8564fcf8-efca-4601-af2c-a13902884a19 div.sk-toggleable__content {max-height: 0;max-width: 0;overflow: hidden;text-align: left;background-color: #f0f8ff;}#sk-8564fcf8-efca-4601-af2c-a13902884a19 div.sk-toggleable__content pre {margin: 0.2em;color: black;border-radius: 0.25em;background-color: #f0f8ff;}#sk-8564fcf8-efca-4601-af2c-a13902884a19 input.sk-toggleable__control:checked~div.sk-toggleable__content {max-height: 200px;max-width: 100%;overflow: auto;}#sk-8564fcf8-efca-4601-af2c-a13902884a19 input.sk-toggleable__control:checked~label.sk-toggleable__label-arrow:before {content: \"▾\";}#sk-8564fcf8-efca-4601-af2c-a13902884a19 div.sk-estimator input.sk-toggleable__control:checked~label.sk-toggleable__label {background-color: #d4ebff;}#sk-8564fcf8-efca-4601-af2c-a13902884a19 div.sk-label input.sk-toggleable__control:checked~label.sk-toggleable__label {background-color: #d4ebff;}#sk-8564fcf8-efca-4601-af2c-a13902884a19 input.sk-hidden--visually {border: 0;clip: rect(1px 1px 1px 1px);clip: rect(1px, 1px, 1px, 1px);height: 1px;margin: -1px;overflow: hidden;padding: 0;position: absolute;width: 1px;}#sk-8564fcf8-efca-4601-af2c-a13902884a19 div.sk-estimator {font-family: monospace;background-color: #f0f8ff;border: 1px dotted black;border-radius: 0.25em;box-sizing: border-box;margin-bottom: 0.5em;}#sk-8564fcf8-efca-4601-af2c-a13902884a19 div.sk-estimator:hover {background-color: #d4ebff;}#sk-8564fcf8-efca-4601-af2c-a13902884a19 div.sk-parallel-item::after {content: \"\";width: 100%;border-bottom: 1px solid gray;flex-grow: 1;}#sk-8564fcf8-efca-4601-af2c-a13902884a19 div.sk-label:hover label.sk-toggleable__label {background-color: #d4ebff;}#sk-8564fcf8-efca-4601-af2c-a13902884a19 div.sk-serial::before {content: \"\";position: absolute;border-left: 1px solid gray;box-sizing: border-box;top: 2em;bottom: 0;left: 50%;}#sk-8564fcf8-efca-4601-af2c-a13902884a19 div.sk-serial {display: flex;flex-direction: column;align-items: center;background-color: white;padding-right: 0.2em;padding-left: 0.2em;}#sk-8564fcf8-efca-4601-af2c-a13902884a19 div.sk-item {z-index: 1;}#sk-8564fcf8-efca-4601-af2c-a13902884a19 div.sk-parallel {display: flex;align-items: stretch;justify-content: center;background-color: white;}#sk-8564fcf8-efca-4601-af2c-a13902884a19 div.sk-parallel::before {content: \"\";position: absolute;border-left: 1px solid gray;box-sizing: border-box;top: 2em;bottom: 0;left: 50%;}#sk-8564fcf8-efca-4601-af2c-a13902884a19 div.sk-parallel-item {display: flex;flex-direction: column;position: relative;background-color: white;}#sk-8564fcf8-efca-4601-af2c-a13902884a19 div.sk-parallel-item:first-child::after {align-self: flex-end;width: 50%;}#sk-8564fcf8-efca-4601-af2c-a13902884a19 div.sk-parallel-item:last-child::after {align-self: flex-start;width: 50%;}#sk-8564fcf8-efca-4601-af2c-a13902884a19 div.sk-parallel-item:only-child::after {width: 0;}#sk-8564fcf8-efca-4601-af2c-a13902884a19 div.sk-dashed-wrapped {border: 1px dashed gray;margin: 0 0.4em 0.5em 0.4em;box-sizing: border-box;padding-bottom: 0.4em;background-color: white;position: relative;}#sk-8564fcf8-efca-4601-af2c-a13902884a19 div.sk-label label {font-family: monospace;font-weight: bold;background-color: white;display: inline-block;line-height: 1.2em;}#sk-8564fcf8-efca-4601-af2c-a13902884a19 div.sk-label-container {position: relative;z-index: 2;text-align: center;}#sk-8564fcf8-efca-4601-af2c-a13902884a19 div.sk-container {/* jupyter's `normalize.less` sets `[hidden] { display: none; }` but bootstrap.min.css set `[hidden] { display: none !important; }` so we also need the `!important` here to be able to override the default hidden behavior on the sphinx rendered scikit-learn.org. See: https://github.com/scikit-learn/scikit-learn/issues/21755 */display: inline-block !important;position: relative;}#sk-8564fcf8-efca-4601-af2c-a13902884a19 div.sk-text-repr-fallback {display: none;}</style><div id=\"sk-8564fcf8-efca-4601-af2c-a13902884a19\" class=\"sk-top-container\"><div class=\"sk-text-repr-fallback\"><pre>DecisionTreeRegressor(random_state=42)</pre><b>Please rerun this cell to show the HTML repr or trust the notebook.</b></div><div class=\"sk-container\" hidden><div class=\"sk-item\"><div class=\"sk-estimator sk-toggleable\"><input class=\"sk-toggleable__control sk-hidden--visually\" id=\"5a836710-3667-4528-9100-70effe4aec11\" type=\"checkbox\" checked><label for=\"5a836710-3667-4528-9100-70effe4aec11\" class=\"sk-toggleable__label sk-toggleable__label-arrow\">DecisionTreeRegressor</label><div class=\"sk-toggleable__content\"><pre>DecisionTreeRegressor(random_state=42)</pre></div></div></div></div></div>"
            ]
          },
          "metadata": {},
          "execution_count": 167
        }
      ]
    },
    {
      "cell_type": "markdown",
      "source": [
        "###Original Reg Tree Score"
      ],
      "metadata": {
        "id": "-8-agE3TcA_p"
      }
    },
    {
      "cell_type": "code",
      "source": [
        "train_score = reg_tree.score(x_train_processed, y_train)\n",
        "test_score = reg_tree.score(x_test_processed, y_test)\n",
        "print(train_score)\n",
        "print(test_score)"
      ],
      "metadata": {
        "colab": {
          "base_uri": "https://localhost:8080/"
        },
        "id": "TZHsj-LKb_x4",
        "outputId": "f3e6c7ae-1143-4d92-9343-aa3ae38b5777"
      },
      "execution_count": 168,
      "outputs": [
        {
          "output_type": "stream",
          "name": "stdout",
          "text": [
            "1.0\n",
            "0.18877812465258292\n"
          ]
        }
      ]
    },
    {
      "cell_type": "markdown",
      "source": [
        "###Hyperparameter Tuning"
      ],
      "metadata": {
        "id": "vGu6Hi30bSjR"
      }
    },
    {
      "cell_type": "code",
      "source": [
        "reg_tree.get_params()"
      ],
      "metadata": {
        "colab": {
          "base_uri": "https://localhost:8080/"
        },
        "id": "AnVZHw24bEfe",
        "outputId": "21ad5587-dfa8-4de4-bf47-8553c42a70e6"
      },
      "execution_count": 169,
      "outputs": [
        {
          "output_type": "execute_result",
          "data": {
            "text/plain": [
              "{'ccp_alpha': 0.0,\n",
              " 'criterion': 'squared_error',\n",
              " 'max_depth': None,\n",
              " 'max_features': None,\n",
              " 'max_leaf_nodes': None,\n",
              " 'min_impurity_decrease': 0.0,\n",
              " 'min_samples_leaf': 1,\n",
              " 'min_samples_split': 2,\n",
              " 'min_weight_fraction_leaf': 0.0,\n",
              " 'random_state': 42,\n",
              " 'splitter': 'best'}"
            ]
          },
          "metadata": {},
          "execution_count": 169
        }
      ]
    },
    {
      "cell_type": "code",
      "source": [
        "reg_tree.get_depth()"
      ],
      "metadata": {
        "colab": {
          "base_uri": "https://localhost:8080/"
        },
        "id": "4wB-0J04bW7Y",
        "outputId": "743cf955-b3f1-48f4-818b-6027c7eb7a59"
      },
      "execution_count": 170,
      "outputs": [
        {
          "output_type": "execute_result",
          "data": {
            "text/plain": [
              "39"
            ]
          },
          "metadata": {},
          "execution_count": 170
        }
      ]
    },
    {
      "cell_type": "code",
      "source": [
        "reg_tree.get_n_leaves()"
      ],
      "metadata": {
        "colab": {
          "base_uri": "https://localhost:8080/"
        },
        "id": "nUPPo47QcbwW",
        "outputId": "1cda7a31-b01f-42d1-ce9d-3dde8ffdb1e2"
      },
      "execution_count": 171,
      "outputs": [
        {
          "output_type": "execute_result",
          "data": {
            "text/plain": [
              "6264"
            ]
          },
          "metadata": {},
          "execution_count": 171
        }
      ]
    },
    {
      "cell_type": "markdown",
      "source": [
        "####Finding the optimal number of max_leaf_nodes"
      ],
      "metadata": {
        "id": "rBWd7H2kp6TE"
      }
    },
    {
      "cell_type": "code",
      "source": [
        "leaves = list(range(2, 1000))\n",
        "scores = pd.DataFrame(index = leaves, columns=['Test Score','Train Score'])\n",
        "for leaves in leaves:\n",
        "    reg_tree = DecisionTreeRegressor(max_leaf_nodes = leaves, random_state=42)\n",
        "    reg_tree.fit(x_train_processed, y_train)\n",
        "    train_score_2 = reg_tree.score(x_train_processed, y_train)\n",
        "    test_score_2 = reg_tree.score(x_test_processed, y_test)\n",
        "    scores.loc[leaves, 'Train Score'] = train_score_2\n",
        "    scores.loc[leaves, 'Test Score'] = test_score_2\n",
        "sort_scores_2 = scores.sort_values(by = \"Test Score\", ascending = False)\n",
        "sort_scores_2.head()\n"
      ],
      "metadata": {
        "colab": {
          "base_uri": "https://localhost:8080/",
          "height": 0
        },
        "id": "Z9pVRHVvcjjX",
        "outputId": "f891b418-f8c4-4466-afe5-b3bd672fc219"
      },
      "execution_count": 172,
      "outputs": [
        {
          "output_type": "execute_result",
          "data": {
            "text/plain": [
              "   Test Score Train Score\n",
              "11    0.58985    0.590147\n",
              "12   0.589459    0.594329\n",
              "13   0.588654    0.596809\n",
              "28   0.587154    0.619227\n",
              "24   0.586629    0.615045"
            ],
            "text/html": [
              "\n",
              "  <div id=\"df-a47ec6f6-96ce-4e4d-80a9-470bc5ddfcaf\">\n",
              "    <div class=\"colab-df-container\">\n",
              "      <div>\n",
              "<style scoped>\n",
              "    .dataframe tbody tr th:only-of-type {\n",
              "        vertical-align: middle;\n",
              "    }\n",
              "\n",
              "    .dataframe tbody tr th {\n",
              "        vertical-align: top;\n",
              "    }\n",
              "\n",
              "    .dataframe thead th {\n",
              "        text-align: right;\n",
              "    }\n",
              "</style>\n",
              "<table border=\"1\" class=\"dataframe\">\n",
              "  <thead>\n",
              "    <tr style=\"text-align: right;\">\n",
              "      <th></th>\n",
              "      <th>Test Score</th>\n",
              "      <th>Train Score</th>\n",
              "    </tr>\n",
              "  </thead>\n",
              "  <tbody>\n",
              "    <tr>\n",
              "      <th>11</th>\n",
              "      <td>0.58985</td>\n",
              "      <td>0.590147</td>\n",
              "    </tr>\n",
              "    <tr>\n",
              "      <th>12</th>\n",
              "      <td>0.589459</td>\n",
              "      <td>0.594329</td>\n",
              "    </tr>\n",
              "    <tr>\n",
              "      <th>13</th>\n",
              "      <td>0.588654</td>\n",
              "      <td>0.596809</td>\n",
              "    </tr>\n",
              "    <tr>\n",
              "      <th>28</th>\n",
              "      <td>0.587154</td>\n",
              "      <td>0.619227</td>\n",
              "    </tr>\n",
              "    <tr>\n",
              "      <th>24</th>\n",
              "      <td>0.586629</td>\n",
              "      <td>0.615045</td>\n",
              "    </tr>\n",
              "  </tbody>\n",
              "</table>\n",
              "</div>\n",
              "      <button class=\"colab-df-convert\" onclick=\"convertToInteractive('df-a47ec6f6-96ce-4e4d-80a9-470bc5ddfcaf')\"\n",
              "              title=\"Convert this dataframe to an interactive table.\"\n",
              "              style=\"display:none;\">\n",
              "        \n",
              "  <svg xmlns=\"http://www.w3.org/2000/svg\" height=\"24px\"viewBox=\"0 0 24 24\"\n",
              "       width=\"24px\">\n",
              "    <path d=\"M0 0h24v24H0V0z\" fill=\"none\"/>\n",
              "    <path d=\"M18.56 5.44l.94 2.06.94-2.06 2.06-.94-2.06-.94-.94-2.06-.94 2.06-2.06.94zm-11 1L8.5 8.5l.94-2.06 2.06-.94-2.06-.94L8.5 2.5l-.94 2.06-2.06.94zm10 10l.94 2.06.94-2.06 2.06-.94-2.06-.94-.94-2.06-.94 2.06-2.06.94z\"/><path d=\"M17.41 7.96l-1.37-1.37c-.4-.4-.92-.59-1.43-.59-.52 0-1.04.2-1.43.59L10.3 9.45l-7.72 7.72c-.78.78-.78 2.05 0 2.83L4 21.41c.39.39.9.59 1.41.59.51 0 1.02-.2 1.41-.59l7.78-7.78 2.81-2.81c.8-.78.8-2.07 0-2.86zM5.41 20L4 18.59l7.72-7.72 1.47 1.35L5.41 20z\"/>\n",
              "  </svg>\n",
              "      </button>\n",
              "      \n",
              "  <style>\n",
              "    .colab-df-container {\n",
              "      display:flex;\n",
              "      flex-wrap:wrap;\n",
              "      gap: 12px;\n",
              "    }\n",
              "\n",
              "    .colab-df-convert {\n",
              "      background-color: #E8F0FE;\n",
              "      border: none;\n",
              "      border-radius: 50%;\n",
              "      cursor: pointer;\n",
              "      display: none;\n",
              "      fill: #1967D2;\n",
              "      height: 32px;\n",
              "      padding: 0 0 0 0;\n",
              "      width: 32px;\n",
              "    }\n",
              "\n",
              "    .colab-df-convert:hover {\n",
              "      background-color: #E2EBFA;\n",
              "      box-shadow: 0px 1px 2px rgba(60, 64, 67, 0.3), 0px 1px 3px 1px rgba(60, 64, 67, 0.15);\n",
              "      fill: #174EA6;\n",
              "    }\n",
              "\n",
              "    [theme=dark] .colab-df-convert {\n",
              "      background-color: #3B4455;\n",
              "      fill: #D2E3FC;\n",
              "    }\n",
              "\n",
              "    [theme=dark] .colab-df-convert:hover {\n",
              "      background-color: #434B5C;\n",
              "      box-shadow: 0px 1px 3px 1px rgba(0, 0, 0, 0.15);\n",
              "      filter: drop-shadow(0px 1px 2px rgba(0, 0, 0, 0.3));\n",
              "      fill: #FFFFFF;\n",
              "    }\n",
              "  </style>\n",
              "\n",
              "      <script>\n",
              "        const buttonEl =\n",
              "          document.querySelector('#df-a47ec6f6-96ce-4e4d-80a9-470bc5ddfcaf button.colab-df-convert');\n",
              "        buttonEl.style.display =\n",
              "          google.colab.kernel.accessAllowed ? 'block' : 'none';\n",
              "\n",
              "        async function convertToInteractive(key) {\n",
              "          const element = document.querySelector('#df-a47ec6f6-96ce-4e4d-80a9-470bc5ddfcaf');\n",
              "          const dataTable =\n",
              "            await google.colab.kernel.invokeFunction('convertToInteractive',\n",
              "                                                     [key], {});\n",
              "          if (!dataTable) return;\n",
              "\n",
              "          const docLinkHtml = 'Like what you see? Visit the ' +\n",
              "            '<a target=\"_blank\" href=https://colab.research.google.com/notebooks/data_table.ipynb>data table notebook</a>'\n",
              "            + ' to learn more about interactive tables.';\n",
              "          element.innerHTML = '';\n",
              "          dataTable['output_type'] = 'display_data';\n",
              "          await google.colab.output.renderOutput(dataTable, element);\n",
              "          const docLink = document.createElement('div');\n",
              "          docLink.innerHTML = docLinkHtml;\n",
              "          element.appendChild(docLink);\n",
              "        }\n",
              "      </script>\n",
              "    </div>\n",
              "  </div>\n",
              "  "
            ]
          },
          "metadata": {},
          "execution_count": 172
        }
      ]
    },
    {
      "cell_type": "code",
      "source": [
        "reg_tree = DecisionTreeRegressor(min_samples_leaf = 5, max_leaf_nodes = 11, random_state = 42)\n",
        "reg_tree.fit(x_train_processed, y_train)"
      ],
      "metadata": {
        "colab": {
          "base_uri": "https://localhost:8080/",
          "height": 0
        },
        "id": "ntCzE8Msk5v7",
        "outputId": "b5cb13b3-71e0-46e7-8486-116fbce026ff"
      },
      "execution_count": 173,
      "outputs": [
        {
          "output_type": "execute_result",
          "data": {
            "text/plain": [
              "DecisionTreeRegressor(max_leaf_nodes=11, min_samples_leaf=5, random_state=42)"
            ],
            "text/html": [
              "<style>#sk-ade1a050-f82c-4eea-abfb-e0b845a840e4 {color: black;background-color: white;}#sk-ade1a050-f82c-4eea-abfb-e0b845a840e4 pre{padding: 0;}#sk-ade1a050-f82c-4eea-abfb-e0b845a840e4 div.sk-toggleable {background-color: white;}#sk-ade1a050-f82c-4eea-abfb-e0b845a840e4 label.sk-toggleable__label {cursor: pointer;display: block;width: 100%;margin-bottom: 0;padding: 0.3em;box-sizing: border-box;text-align: center;}#sk-ade1a050-f82c-4eea-abfb-e0b845a840e4 label.sk-toggleable__label-arrow:before {content: \"▸\";float: left;margin-right: 0.25em;color: #696969;}#sk-ade1a050-f82c-4eea-abfb-e0b845a840e4 label.sk-toggleable__label-arrow:hover:before {color: black;}#sk-ade1a050-f82c-4eea-abfb-e0b845a840e4 div.sk-estimator:hover label.sk-toggleable__label-arrow:before {color: black;}#sk-ade1a050-f82c-4eea-abfb-e0b845a840e4 div.sk-toggleable__content {max-height: 0;max-width: 0;overflow: hidden;text-align: left;background-color: #f0f8ff;}#sk-ade1a050-f82c-4eea-abfb-e0b845a840e4 div.sk-toggleable__content pre {margin: 0.2em;color: black;border-radius: 0.25em;background-color: #f0f8ff;}#sk-ade1a050-f82c-4eea-abfb-e0b845a840e4 input.sk-toggleable__control:checked~div.sk-toggleable__content {max-height: 200px;max-width: 100%;overflow: auto;}#sk-ade1a050-f82c-4eea-abfb-e0b845a840e4 input.sk-toggleable__control:checked~label.sk-toggleable__label-arrow:before {content: \"▾\";}#sk-ade1a050-f82c-4eea-abfb-e0b845a840e4 div.sk-estimator input.sk-toggleable__control:checked~label.sk-toggleable__label {background-color: #d4ebff;}#sk-ade1a050-f82c-4eea-abfb-e0b845a840e4 div.sk-label input.sk-toggleable__control:checked~label.sk-toggleable__label {background-color: #d4ebff;}#sk-ade1a050-f82c-4eea-abfb-e0b845a840e4 input.sk-hidden--visually {border: 0;clip: rect(1px 1px 1px 1px);clip: rect(1px, 1px, 1px, 1px);height: 1px;margin: -1px;overflow: hidden;padding: 0;position: absolute;width: 1px;}#sk-ade1a050-f82c-4eea-abfb-e0b845a840e4 div.sk-estimator {font-family: monospace;background-color: #f0f8ff;border: 1px dotted black;border-radius: 0.25em;box-sizing: border-box;margin-bottom: 0.5em;}#sk-ade1a050-f82c-4eea-abfb-e0b845a840e4 div.sk-estimator:hover {background-color: #d4ebff;}#sk-ade1a050-f82c-4eea-abfb-e0b845a840e4 div.sk-parallel-item::after {content: \"\";width: 100%;border-bottom: 1px solid gray;flex-grow: 1;}#sk-ade1a050-f82c-4eea-abfb-e0b845a840e4 div.sk-label:hover label.sk-toggleable__label {background-color: #d4ebff;}#sk-ade1a050-f82c-4eea-abfb-e0b845a840e4 div.sk-serial::before {content: \"\";position: absolute;border-left: 1px solid gray;box-sizing: border-box;top: 2em;bottom: 0;left: 50%;}#sk-ade1a050-f82c-4eea-abfb-e0b845a840e4 div.sk-serial {display: flex;flex-direction: column;align-items: center;background-color: white;padding-right: 0.2em;padding-left: 0.2em;}#sk-ade1a050-f82c-4eea-abfb-e0b845a840e4 div.sk-item {z-index: 1;}#sk-ade1a050-f82c-4eea-abfb-e0b845a840e4 div.sk-parallel {display: flex;align-items: stretch;justify-content: center;background-color: white;}#sk-ade1a050-f82c-4eea-abfb-e0b845a840e4 div.sk-parallel::before {content: \"\";position: absolute;border-left: 1px solid gray;box-sizing: border-box;top: 2em;bottom: 0;left: 50%;}#sk-ade1a050-f82c-4eea-abfb-e0b845a840e4 div.sk-parallel-item {display: flex;flex-direction: column;position: relative;background-color: white;}#sk-ade1a050-f82c-4eea-abfb-e0b845a840e4 div.sk-parallel-item:first-child::after {align-self: flex-end;width: 50%;}#sk-ade1a050-f82c-4eea-abfb-e0b845a840e4 div.sk-parallel-item:last-child::after {align-self: flex-start;width: 50%;}#sk-ade1a050-f82c-4eea-abfb-e0b845a840e4 div.sk-parallel-item:only-child::after {width: 0;}#sk-ade1a050-f82c-4eea-abfb-e0b845a840e4 div.sk-dashed-wrapped {border: 1px dashed gray;margin: 0 0.4em 0.5em 0.4em;box-sizing: border-box;padding-bottom: 0.4em;background-color: white;position: relative;}#sk-ade1a050-f82c-4eea-abfb-e0b845a840e4 div.sk-label label {font-family: monospace;font-weight: bold;background-color: white;display: inline-block;line-height: 1.2em;}#sk-ade1a050-f82c-4eea-abfb-e0b845a840e4 div.sk-label-container {position: relative;z-index: 2;text-align: center;}#sk-ade1a050-f82c-4eea-abfb-e0b845a840e4 div.sk-container {/* jupyter's `normalize.less` sets `[hidden] { display: none; }` but bootstrap.min.css set `[hidden] { display: none !important; }` so we also need the `!important` here to be able to override the default hidden behavior on the sphinx rendered scikit-learn.org. See: https://github.com/scikit-learn/scikit-learn/issues/21755 */display: inline-block !important;position: relative;}#sk-ade1a050-f82c-4eea-abfb-e0b845a840e4 div.sk-text-repr-fallback {display: none;}</style><div id=\"sk-ade1a050-f82c-4eea-abfb-e0b845a840e4\" class=\"sk-top-container\"><div class=\"sk-text-repr-fallback\"><pre>DecisionTreeRegressor(max_leaf_nodes=11, min_samples_leaf=5, random_state=42)</pre><b>Please rerun this cell to show the HTML repr or trust the notebook.</b></div><div class=\"sk-container\" hidden><div class=\"sk-item\"><div class=\"sk-estimator sk-toggleable\"><input class=\"sk-toggleable__control sk-hidden--visually\" id=\"214bc37e-21c6-4ee7-8032-d4ed4087beaf\" type=\"checkbox\" checked><label for=\"214bc37e-21c6-4ee7-8032-d4ed4087beaf\" class=\"sk-toggleable__label sk-toggleable__label-arrow\">DecisionTreeRegressor</label><div class=\"sk-toggleable__content\"><pre>DecisionTreeRegressor(max_leaf_nodes=11, min_samples_leaf=5, random_state=42)</pre></div></div></div></div></div>"
            ]
          },
          "metadata": {},
          "execution_count": 173
        }
      ]
    },
    {
      "cell_type": "code",
      "source": [
        "train_score = reg_tree.score(x_train_processed, y_train)\n",
        "test_score = reg_tree.score(x_test_processed, y_test)\n",
        "print(train_score)\n",
        "print(test_score)"
      ],
      "metadata": {
        "colab": {
          "base_uri": "https://localhost:8080/"
        },
        "id": "srcW6gk5lFOq",
        "outputId": "c53ed858-5d7b-43c2-e24b-d82e56d437a9"
      },
      "execution_count": 174,
      "outputs": [
        {
          "output_type": "stream",
          "name": "stdout",
          "text": [
            "0.5901466389903046\n",
            "0.5898501176377509\n"
          ]
        }
      ]
    },
    {
      "cell_type": "markdown",
      "source": [
        "We can see that the model is currently underfitting"
      ],
      "metadata": {
        "id": "6KbUxsNsppTT"
      }
    },
    {
      "cell_type": "markdown",
      "source": [
        "####Finding the optimal min_samples_leaf"
      ],
      "metadata": {
        "id": "8zuLJMjjqBBH"
      }
    },
    {
      "cell_type": "code",
      "source": [
        "sample_leaf_min = list(range(2, 20))\n",
        "scores = pd.DataFrame(index = sample_leaf_min, columns=['Test Score','Train Score'])\n",
        "for sample_leaf_min in sample_leaf_min:\n",
        "    reg_tree = DecisionTreeRegressor(min_samples_leaf = sample_leaf_min, random_state=42)\n",
        "    reg_tree.fit(x_train_processed, y_train)\n",
        "    train_score_3 = reg_tree.score(x_train_processed, y_train)\n",
        "    test_score_3 = reg_tree.score(x_test_processed, y_test)\n",
        "    scores.loc[sample_leaf_min, 'Train Score'] = train_score_3\n",
        "    scores.loc[sample_leaf_min, 'Test Score'] = test_score_3\n",
        "sort_scores = scores.sort_values(by = \"Test Score\", ascending = False)\n",
        "sort_scores.head()"
      ],
      "metadata": {
        "colab": {
          "base_uri": "https://localhost:8080/",
          "height": 0
        },
        "id": "jQYduVFsm1e6",
        "outputId": "85f2d63f-bab8-4b8b-faf9-8a6626c37c09"
      },
      "execution_count": 175,
      "outputs": [
        {
          "output_type": "execute_result",
          "data": {
            "text/plain": [
              "   Test Score Train Score\n",
              "19     0.5453    0.657434\n",
              "18   0.537353     0.66076\n",
              "15   0.533862    0.671214\n",
              "17   0.533602    0.664059\n",
              "16   0.531824    0.667796"
            ],
            "text/html": [
              "\n",
              "  <div id=\"df-0490b949-b9ce-4072-8651-7c352cb6d002\">\n",
              "    <div class=\"colab-df-container\">\n",
              "      <div>\n",
              "<style scoped>\n",
              "    .dataframe tbody tr th:only-of-type {\n",
              "        vertical-align: middle;\n",
              "    }\n",
              "\n",
              "    .dataframe tbody tr th {\n",
              "        vertical-align: top;\n",
              "    }\n",
              "\n",
              "    .dataframe thead th {\n",
              "        text-align: right;\n",
              "    }\n",
              "</style>\n",
              "<table border=\"1\" class=\"dataframe\">\n",
              "  <thead>\n",
              "    <tr style=\"text-align: right;\">\n",
              "      <th></th>\n",
              "      <th>Test Score</th>\n",
              "      <th>Train Score</th>\n",
              "    </tr>\n",
              "  </thead>\n",
              "  <tbody>\n",
              "    <tr>\n",
              "      <th>19</th>\n",
              "      <td>0.5453</td>\n",
              "      <td>0.657434</td>\n",
              "    </tr>\n",
              "    <tr>\n",
              "      <th>18</th>\n",
              "      <td>0.537353</td>\n",
              "      <td>0.66076</td>\n",
              "    </tr>\n",
              "    <tr>\n",
              "      <th>15</th>\n",
              "      <td>0.533862</td>\n",
              "      <td>0.671214</td>\n",
              "    </tr>\n",
              "    <tr>\n",
              "      <th>17</th>\n",
              "      <td>0.533602</td>\n",
              "      <td>0.664059</td>\n",
              "    </tr>\n",
              "    <tr>\n",
              "      <th>16</th>\n",
              "      <td>0.531824</td>\n",
              "      <td>0.667796</td>\n",
              "    </tr>\n",
              "  </tbody>\n",
              "</table>\n",
              "</div>\n",
              "      <button class=\"colab-df-convert\" onclick=\"convertToInteractive('df-0490b949-b9ce-4072-8651-7c352cb6d002')\"\n",
              "              title=\"Convert this dataframe to an interactive table.\"\n",
              "              style=\"display:none;\">\n",
              "        \n",
              "  <svg xmlns=\"http://www.w3.org/2000/svg\" height=\"24px\"viewBox=\"0 0 24 24\"\n",
              "       width=\"24px\">\n",
              "    <path d=\"M0 0h24v24H0V0z\" fill=\"none\"/>\n",
              "    <path d=\"M18.56 5.44l.94 2.06.94-2.06 2.06-.94-2.06-.94-.94-2.06-.94 2.06-2.06.94zm-11 1L8.5 8.5l.94-2.06 2.06-.94-2.06-.94L8.5 2.5l-.94 2.06-2.06.94zm10 10l.94 2.06.94-2.06 2.06-.94-2.06-.94-.94-2.06-.94 2.06-2.06.94z\"/><path d=\"M17.41 7.96l-1.37-1.37c-.4-.4-.92-.59-1.43-.59-.52 0-1.04.2-1.43.59L10.3 9.45l-7.72 7.72c-.78.78-.78 2.05 0 2.83L4 21.41c.39.39.9.59 1.41.59.51 0 1.02-.2 1.41-.59l7.78-7.78 2.81-2.81c.8-.78.8-2.07 0-2.86zM5.41 20L4 18.59l7.72-7.72 1.47 1.35L5.41 20z\"/>\n",
              "  </svg>\n",
              "      </button>\n",
              "      \n",
              "  <style>\n",
              "    .colab-df-container {\n",
              "      display:flex;\n",
              "      flex-wrap:wrap;\n",
              "      gap: 12px;\n",
              "    }\n",
              "\n",
              "    .colab-df-convert {\n",
              "      background-color: #E8F0FE;\n",
              "      border: none;\n",
              "      border-radius: 50%;\n",
              "      cursor: pointer;\n",
              "      display: none;\n",
              "      fill: #1967D2;\n",
              "      height: 32px;\n",
              "      padding: 0 0 0 0;\n",
              "      width: 32px;\n",
              "    }\n",
              "\n",
              "    .colab-df-convert:hover {\n",
              "      background-color: #E2EBFA;\n",
              "      box-shadow: 0px 1px 2px rgba(60, 64, 67, 0.3), 0px 1px 3px 1px rgba(60, 64, 67, 0.15);\n",
              "      fill: #174EA6;\n",
              "    }\n",
              "\n",
              "    [theme=dark] .colab-df-convert {\n",
              "      background-color: #3B4455;\n",
              "      fill: #D2E3FC;\n",
              "    }\n",
              "\n",
              "    [theme=dark] .colab-df-convert:hover {\n",
              "      background-color: #434B5C;\n",
              "      box-shadow: 0px 1px 3px 1px rgba(0, 0, 0, 0.15);\n",
              "      filter: drop-shadow(0px 1px 2px rgba(0, 0, 0, 0.3));\n",
              "      fill: #FFFFFF;\n",
              "    }\n",
              "  </style>\n",
              "\n",
              "      <script>\n",
              "        const buttonEl =\n",
              "          document.querySelector('#df-0490b949-b9ce-4072-8651-7c352cb6d002 button.colab-df-convert');\n",
              "        buttonEl.style.display =\n",
              "          google.colab.kernel.accessAllowed ? 'block' : 'none';\n",
              "\n",
              "        async function convertToInteractive(key) {\n",
              "          const element = document.querySelector('#df-0490b949-b9ce-4072-8651-7c352cb6d002');\n",
              "          const dataTable =\n",
              "            await google.colab.kernel.invokeFunction('convertToInteractive',\n",
              "                                                     [key], {});\n",
              "          if (!dataTable) return;\n",
              "\n",
              "          const docLinkHtml = 'Like what you see? Visit the ' +\n",
              "            '<a target=\"_blank\" href=https://colab.research.google.com/notebooks/data_table.ipynb>data table notebook</a>'\n",
              "            + ' to learn more about interactive tables.';\n",
              "          element.innerHTML = '';\n",
              "          dataTable['output_type'] = 'display_data';\n",
              "          await google.colab.output.renderOutput(dataTable, element);\n",
              "          const docLink = document.createElement('div');\n",
              "          docLink.innerHTML = docLinkHtml;\n",
              "          element.appendChild(docLink);\n",
              "        }\n",
              "      </script>\n",
              "    </div>\n",
              "  </div>\n",
              "  "
            ]
          },
          "metadata": {},
          "execution_count": 175
        }
      ]
    },
    {
      "cell_type": "code",
      "source": [
        "reg_tree = DecisionTreeRegressor(min_samples_leaf = 19, max_leaf_nodes = 1004, random_state = 42)\n",
        "reg_tree.fit(x_train_processed, y_train)"
      ],
      "metadata": {
        "colab": {
          "base_uri": "https://localhost:8080/",
          "height": 0
        },
        "id": "__7zv7f5ntmy",
        "outputId": "26b2c03a-4557-4369-98fa-ec58d8e37a4a"
      },
      "execution_count": 176,
      "outputs": [
        {
          "output_type": "execute_result",
          "data": {
            "text/plain": [
              "DecisionTreeRegressor(max_leaf_nodes=1004, min_samples_leaf=19, random_state=42)"
            ],
            "text/html": [
              "<style>#sk-dbbd4215-6b07-49bb-8dce-27d6d33d1edf {color: black;background-color: white;}#sk-dbbd4215-6b07-49bb-8dce-27d6d33d1edf pre{padding: 0;}#sk-dbbd4215-6b07-49bb-8dce-27d6d33d1edf div.sk-toggleable {background-color: white;}#sk-dbbd4215-6b07-49bb-8dce-27d6d33d1edf label.sk-toggleable__label {cursor: pointer;display: block;width: 100%;margin-bottom: 0;padding: 0.3em;box-sizing: border-box;text-align: center;}#sk-dbbd4215-6b07-49bb-8dce-27d6d33d1edf label.sk-toggleable__label-arrow:before {content: \"▸\";float: left;margin-right: 0.25em;color: #696969;}#sk-dbbd4215-6b07-49bb-8dce-27d6d33d1edf label.sk-toggleable__label-arrow:hover:before {color: black;}#sk-dbbd4215-6b07-49bb-8dce-27d6d33d1edf div.sk-estimator:hover label.sk-toggleable__label-arrow:before {color: black;}#sk-dbbd4215-6b07-49bb-8dce-27d6d33d1edf div.sk-toggleable__content {max-height: 0;max-width: 0;overflow: hidden;text-align: left;background-color: #f0f8ff;}#sk-dbbd4215-6b07-49bb-8dce-27d6d33d1edf div.sk-toggleable__content pre {margin: 0.2em;color: black;border-radius: 0.25em;background-color: #f0f8ff;}#sk-dbbd4215-6b07-49bb-8dce-27d6d33d1edf input.sk-toggleable__control:checked~div.sk-toggleable__content {max-height: 200px;max-width: 100%;overflow: auto;}#sk-dbbd4215-6b07-49bb-8dce-27d6d33d1edf input.sk-toggleable__control:checked~label.sk-toggleable__label-arrow:before {content: \"▾\";}#sk-dbbd4215-6b07-49bb-8dce-27d6d33d1edf div.sk-estimator input.sk-toggleable__control:checked~label.sk-toggleable__label {background-color: #d4ebff;}#sk-dbbd4215-6b07-49bb-8dce-27d6d33d1edf div.sk-label input.sk-toggleable__control:checked~label.sk-toggleable__label {background-color: #d4ebff;}#sk-dbbd4215-6b07-49bb-8dce-27d6d33d1edf input.sk-hidden--visually {border: 0;clip: rect(1px 1px 1px 1px);clip: rect(1px, 1px, 1px, 1px);height: 1px;margin: -1px;overflow: hidden;padding: 0;position: absolute;width: 1px;}#sk-dbbd4215-6b07-49bb-8dce-27d6d33d1edf div.sk-estimator {font-family: monospace;background-color: #f0f8ff;border: 1px dotted black;border-radius: 0.25em;box-sizing: border-box;margin-bottom: 0.5em;}#sk-dbbd4215-6b07-49bb-8dce-27d6d33d1edf div.sk-estimator:hover {background-color: #d4ebff;}#sk-dbbd4215-6b07-49bb-8dce-27d6d33d1edf div.sk-parallel-item::after {content: \"\";width: 100%;border-bottom: 1px solid gray;flex-grow: 1;}#sk-dbbd4215-6b07-49bb-8dce-27d6d33d1edf div.sk-label:hover label.sk-toggleable__label {background-color: #d4ebff;}#sk-dbbd4215-6b07-49bb-8dce-27d6d33d1edf div.sk-serial::before {content: \"\";position: absolute;border-left: 1px solid gray;box-sizing: border-box;top: 2em;bottom: 0;left: 50%;}#sk-dbbd4215-6b07-49bb-8dce-27d6d33d1edf div.sk-serial {display: flex;flex-direction: column;align-items: center;background-color: white;padding-right: 0.2em;padding-left: 0.2em;}#sk-dbbd4215-6b07-49bb-8dce-27d6d33d1edf div.sk-item {z-index: 1;}#sk-dbbd4215-6b07-49bb-8dce-27d6d33d1edf div.sk-parallel {display: flex;align-items: stretch;justify-content: center;background-color: white;}#sk-dbbd4215-6b07-49bb-8dce-27d6d33d1edf div.sk-parallel::before {content: \"\";position: absolute;border-left: 1px solid gray;box-sizing: border-box;top: 2em;bottom: 0;left: 50%;}#sk-dbbd4215-6b07-49bb-8dce-27d6d33d1edf div.sk-parallel-item {display: flex;flex-direction: column;position: relative;background-color: white;}#sk-dbbd4215-6b07-49bb-8dce-27d6d33d1edf div.sk-parallel-item:first-child::after {align-self: flex-end;width: 50%;}#sk-dbbd4215-6b07-49bb-8dce-27d6d33d1edf div.sk-parallel-item:last-child::after {align-self: flex-start;width: 50%;}#sk-dbbd4215-6b07-49bb-8dce-27d6d33d1edf div.sk-parallel-item:only-child::after {width: 0;}#sk-dbbd4215-6b07-49bb-8dce-27d6d33d1edf div.sk-dashed-wrapped {border: 1px dashed gray;margin: 0 0.4em 0.5em 0.4em;box-sizing: border-box;padding-bottom: 0.4em;background-color: white;position: relative;}#sk-dbbd4215-6b07-49bb-8dce-27d6d33d1edf div.sk-label label {font-family: monospace;font-weight: bold;background-color: white;display: inline-block;line-height: 1.2em;}#sk-dbbd4215-6b07-49bb-8dce-27d6d33d1edf div.sk-label-container {position: relative;z-index: 2;text-align: center;}#sk-dbbd4215-6b07-49bb-8dce-27d6d33d1edf div.sk-container {/* jupyter's `normalize.less` sets `[hidden] { display: none; }` but bootstrap.min.css set `[hidden] { display: none !important; }` so we also need the `!important` here to be able to override the default hidden behavior on the sphinx rendered scikit-learn.org. See: https://github.com/scikit-learn/scikit-learn/issues/21755 */display: inline-block !important;position: relative;}#sk-dbbd4215-6b07-49bb-8dce-27d6d33d1edf div.sk-text-repr-fallback {display: none;}</style><div id=\"sk-dbbd4215-6b07-49bb-8dce-27d6d33d1edf\" class=\"sk-top-container\"><div class=\"sk-text-repr-fallback\"><pre>DecisionTreeRegressor(max_leaf_nodes=1004, min_samples_leaf=19, random_state=42)</pre><b>Please rerun this cell to show the HTML repr or trust the notebook.</b></div><div class=\"sk-container\" hidden><div class=\"sk-item\"><div class=\"sk-estimator sk-toggleable\"><input class=\"sk-toggleable__control sk-hidden--visually\" id=\"b4022afd-ecb8-4265-83c4-a02fc6131702\" type=\"checkbox\" checked><label for=\"b4022afd-ecb8-4265-83c4-a02fc6131702\" class=\"sk-toggleable__label sk-toggleable__label-arrow\">DecisionTreeRegressor</label><div class=\"sk-toggleable__content\"><pre>DecisionTreeRegressor(max_leaf_nodes=1004, min_samples_leaf=19, random_state=42)</pre></div></div></div></div></div>"
            ]
          },
          "metadata": {},
          "execution_count": 176
        }
      ]
    },
    {
      "cell_type": "code",
      "source": [
        "train_score_4 = reg_tree.score(x_train_processed, y_train)\n",
        "test_score_4 = reg_tree.score(x_test_processed, y_test)\n",
        "print(train_score_4)\n",
        "print(test_score_4)"
      ],
      "metadata": {
        "colab": {
          "base_uri": "https://localhost:8080/"
        },
        "id": "mRqUCEOInxac",
        "outputId": "262942f4-1e0a-4f9f-89e9-4e5d9c4a5126"
      },
      "execution_count": 177,
      "outputs": [
        {
          "output_type": "stream",
          "name": "stdout",
          "text": [
            "0.6574336701294772\n",
            "0.5452999741204319\n"
          ]
        }
      ]
    },
    {
      "cell_type": "markdown",
      "source": [
        "We can see by these scores that the model is underfitting, but getting better! "
      ],
      "metadata": {
        "id": "usmjnEaApBzI"
      }
    },
    {
      "cell_type": "markdown",
      "source": [
        "####Finding the optimal depth"
      ],
      "metadata": {
        "id": "xRVATCDNqHq3"
      }
    },
    {
      "cell_type": "code",
      "source": [
        "depths = list(range(2, 50))\n",
        "scores = pd.DataFrame(index=depths, columns=['Test Score','Train Score'])\n",
        "for depth in depths:\n",
        "    reg_tree = DecisionTreeRegressor(max_depth=depth, random_state=42)\n",
        "    reg_tree.fit(x_train_processed, y_train)\n",
        "    train_score_5 = reg_tree.score(x_train_processed, y_train)\n",
        "    test_score_5 = reg_tree.score(x_test_processed, y_test)\n",
        "    scores.loc[depth, 'Train Score'] = train_score_5\n",
        "    scores.loc[depth, 'Test Score'] = test_score_5\n",
        "sort_scores_5 = scores.sort_values(by = \"Test Score\", ascending = False)\n",
        "sort_scores_5.head()\n"
      ],
      "metadata": {
        "colab": {
          "base_uri": "https://localhost:8080/",
          "height": 0
        },
        "id": "kwQopgUHpt_z",
        "outputId": "a4441b1c-5381-4b69-a30f-96ab1fc38546"
      },
      "execution_count": 178,
      "outputs": [
        {
          "output_type": "execute_result",
          "data": {
            "text/plain": [
              "  Test Score Train Score\n",
              "5   0.594757    0.603917\n",
              "6   0.585825    0.614946\n",
              "4   0.584005    0.582625\n",
              "7   0.581531    0.626298\n",
              "8   0.571732    0.641324"
            ],
            "text/html": [
              "\n",
              "  <div id=\"df-5e93c95c-a729-4051-bcfb-62dde17ca44a\">\n",
              "    <div class=\"colab-df-container\">\n",
              "      <div>\n",
              "<style scoped>\n",
              "    .dataframe tbody tr th:only-of-type {\n",
              "        vertical-align: middle;\n",
              "    }\n",
              "\n",
              "    .dataframe tbody tr th {\n",
              "        vertical-align: top;\n",
              "    }\n",
              "\n",
              "    .dataframe thead th {\n",
              "        text-align: right;\n",
              "    }\n",
              "</style>\n",
              "<table border=\"1\" class=\"dataframe\">\n",
              "  <thead>\n",
              "    <tr style=\"text-align: right;\">\n",
              "      <th></th>\n",
              "      <th>Test Score</th>\n",
              "      <th>Train Score</th>\n",
              "    </tr>\n",
              "  </thead>\n",
              "  <tbody>\n",
              "    <tr>\n",
              "      <th>5</th>\n",
              "      <td>0.594757</td>\n",
              "      <td>0.603917</td>\n",
              "    </tr>\n",
              "    <tr>\n",
              "      <th>6</th>\n",
              "      <td>0.585825</td>\n",
              "      <td>0.614946</td>\n",
              "    </tr>\n",
              "    <tr>\n",
              "      <th>4</th>\n",
              "      <td>0.584005</td>\n",
              "      <td>0.582625</td>\n",
              "    </tr>\n",
              "    <tr>\n",
              "      <th>7</th>\n",
              "      <td>0.581531</td>\n",
              "      <td>0.626298</td>\n",
              "    </tr>\n",
              "    <tr>\n",
              "      <th>8</th>\n",
              "      <td>0.571732</td>\n",
              "      <td>0.641324</td>\n",
              "    </tr>\n",
              "  </tbody>\n",
              "</table>\n",
              "</div>\n",
              "      <button class=\"colab-df-convert\" onclick=\"convertToInteractive('df-5e93c95c-a729-4051-bcfb-62dde17ca44a')\"\n",
              "              title=\"Convert this dataframe to an interactive table.\"\n",
              "              style=\"display:none;\">\n",
              "        \n",
              "  <svg xmlns=\"http://www.w3.org/2000/svg\" height=\"24px\"viewBox=\"0 0 24 24\"\n",
              "       width=\"24px\">\n",
              "    <path d=\"M0 0h24v24H0V0z\" fill=\"none\"/>\n",
              "    <path d=\"M18.56 5.44l.94 2.06.94-2.06 2.06-.94-2.06-.94-.94-2.06-.94 2.06-2.06.94zm-11 1L8.5 8.5l.94-2.06 2.06-.94-2.06-.94L8.5 2.5l-.94 2.06-2.06.94zm10 10l.94 2.06.94-2.06 2.06-.94-2.06-.94-.94-2.06-.94 2.06-2.06.94z\"/><path d=\"M17.41 7.96l-1.37-1.37c-.4-.4-.92-.59-1.43-.59-.52 0-1.04.2-1.43.59L10.3 9.45l-7.72 7.72c-.78.78-.78 2.05 0 2.83L4 21.41c.39.39.9.59 1.41.59.51 0 1.02-.2 1.41-.59l7.78-7.78 2.81-2.81c.8-.78.8-2.07 0-2.86zM5.41 20L4 18.59l7.72-7.72 1.47 1.35L5.41 20z\"/>\n",
              "  </svg>\n",
              "      </button>\n",
              "      \n",
              "  <style>\n",
              "    .colab-df-container {\n",
              "      display:flex;\n",
              "      flex-wrap:wrap;\n",
              "      gap: 12px;\n",
              "    }\n",
              "\n",
              "    .colab-df-convert {\n",
              "      background-color: #E8F0FE;\n",
              "      border: none;\n",
              "      border-radius: 50%;\n",
              "      cursor: pointer;\n",
              "      display: none;\n",
              "      fill: #1967D2;\n",
              "      height: 32px;\n",
              "      padding: 0 0 0 0;\n",
              "      width: 32px;\n",
              "    }\n",
              "\n",
              "    .colab-df-convert:hover {\n",
              "      background-color: #E2EBFA;\n",
              "      box-shadow: 0px 1px 2px rgba(60, 64, 67, 0.3), 0px 1px 3px 1px rgba(60, 64, 67, 0.15);\n",
              "      fill: #174EA6;\n",
              "    }\n",
              "\n",
              "    [theme=dark] .colab-df-convert {\n",
              "      background-color: #3B4455;\n",
              "      fill: #D2E3FC;\n",
              "    }\n",
              "\n",
              "    [theme=dark] .colab-df-convert:hover {\n",
              "      background-color: #434B5C;\n",
              "      box-shadow: 0px 1px 3px 1px rgba(0, 0, 0, 0.15);\n",
              "      filter: drop-shadow(0px 1px 2px rgba(0, 0, 0, 0.3));\n",
              "      fill: #FFFFFF;\n",
              "    }\n",
              "  </style>\n",
              "\n",
              "      <script>\n",
              "        const buttonEl =\n",
              "          document.querySelector('#df-5e93c95c-a729-4051-bcfb-62dde17ca44a button.colab-df-convert');\n",
              "        buttonEl.style.display =\n",
              "          google.colab.kernel.accessAllowed ? 'block' : 'none';\n",
              "\n",
              "        async function convertToInteractive(key) {\n",
              "          const element = document.querySelector('#df-5e93c95c-a729-4051-bcfb-62dde17ca44a');\n",
              "          const dataTable =\n",
              "            await google.colab.kernel.invokeFunction('convertToInteractive',\n",
              "                                                     [key], {});\n",
              "          if (!dataTable) return;\n",
              "\n",
              "          const docLinkHtml = 'Like what you see? Visit the ' +\n",
              "            '<a target=\"_blank\" href=https://colab.research.google.com/notebooks/data_table.ipynb>data table notebook</a>'\n",
              "            + ' to learn more about interactive tables.';\n",
              "          element.innerHTML = '';\n",
              "          dataTable['output_type'] = 'display_data';\n",
              "          await google.colab.output.renderOutput(dataTable, element);\n",
              "          const docLink = document.createElement('div');\n",
              "          docLink.innerHTML = docLinkHtml;\n",
              "          element.appendChild(docLink);\n",
              "        }\n",
              "      </script>\n",
              "    </div>\n",
              "  </div>\n",
              "  "
            ]
          },
          "metadata": {},
          "execution_count": 178
        }
      ]
    },
    {
      "cell_type": "markdown",
      "source": [
        "####Finding optimal min_sample_split"
      ],
      "metadata": {
        "id": "GT6vFJDKrZWV"
      }
    },
    {
      "cell_type": "code",
      "source": [
        "split = list(range(2, 20))\n",
        "scores = pd.DataFrame(index = split, columns = ['Test Score','Train Score'])\n",
        "for split in split:\n",
        "    reg_tree = DecisionTreeRegressor(min_samples_split = split, random_state=42)\n",
        "    reg_tree.fit(x_train_processed, y_train)\n",
        "    train_score_6 = reg_tree.score(x_train_processed, y_train)\n",
        "    test_score_6 = reg_tree.score(x_test_processed, y_test)\n",
        "    scores.loc[split, 'Train Score'] = train_score_6\n",
        "    scores.loc[split, 'Test Score'] = test_score_6\n",
        "sort_scores_6 = scores.sort_values(by = \"Test Score\", ascending = False)\n",
        "sort_scores_6.head()\n"
      ],
      "metadata": {
        "colab": {
          "base_uri": "https://localhost:8080/",
          "height": 206
        },
        "id": "B4AtyfKJrlpn",
        "outputId": "5bea028c-720c-4007-d251-7adf455f3f63"
      },
      "execution_count": 179,
      "outputs": [
        {
          "output_type": "execute_result",
          "data": {
            "text/plain": [
              "   Test Score Train Score\n",
              "19   0.414689    0.783276\n",
              "18   0.409964    0.790733\n",
              "17   0.398429    0.797596\n",
              "16   0.393378    0.803337\n",
              "15   0.380672    0.811317"
            ],
            "text/html": [
              "\n",
              "  <div id=\"df-f48fa316-999b-4bd5-bb65-855470a4d320\">\n",
              "    <div class=\"colab-df-container\">\n",
              "      <div>\n",
              "<style scoped>\n",
              "    .dataframe tbody tr th:only-of-type {\n",
              "        vertical-align: middle;\n",
              "    }\n",
              "\n",
              "    .dataframe tbody tr th {\n",
              "        vertical-align: top;\n",
              "    }\n",
              "\n",
              "    .dataframe thead th {\n",
              "        text-align: right;\n",
              "    }\n",
              "</style>\n",
              "<table border=\"1\" class=\"dataframe\">\n",
              "  <thead>\n",
              "    <tr style=\"text-align: right;\">\n",
              "      <th></th>\n",
              "      <th>Test Score</th>\n",
              "      <th>Train Score</th>\n",
              "    </tr>\n",
              "  </thead>\n",
              "  <tbody>\n",
              "    <tr>\n",
              "      <th>19</th>\n",
              "      <td>0.414689</td>\n",
              "      <td>0.783276</td>\n",
              "    </tr>\n",
              "    <tr>\n",
              "      <th>18</th>\n",
              "      <td>0.409964</td>\n",
              "      <td>0.790733</td>\n",
              "    </tr>\n",
              "    <tr>\n",
              "      <th>17</th>\n",
              "      <td>0.398429</td>\n",
              "      <td>0.797596</td>\n",
              "    </tr>\n",
              "    <tr>\n",
              "      <th>16</th>\n",
              "      <td>0.393378</td>\n",
              "      <td>0.803337</td>\n",
              "    </tr>\n",
              "    <tr>\n",
              "      <th>15</th>\n",
              "      <td>0.380672</td>\n",
              "      <td>0.811317</td>\n",
              "    </tr>\n",
              "  </tbody>\n",
              "</table>\n",
              "</div>\n",
              "      <button class=\"colab-df-convert\" onclick=\"convertToInteractive('df-f48fa316-999b-4bd5-bb65-855470a4d320')\"\n",
              "              title=\"Convert this dataframe to an interactive table.\"\n",
              "              style=\"display:none;\">\n",
              "        \n",
              "  <svg xmlns=\"http://www.w3.org/2000/svg\" height=\"24px\"viewBox=\"0 0 24 24\"\n",
              "       width=\"24px\">\n",
              "    <path d=\"M0 0h24v24H0V0z\" fill=\"none\"/>\n",
              "    <path d=\"M18.56 5.44l.94 2.06.94-2.06 2.06-.94-2.06-.94-.94-2.06-.94 2.06-2.06.94zm-11 1L8.5 8.5l.94-2.06 2.06-.94-2.06-.94L8.5 2.5l-.94 2.06-2.06.94zm10 10l.94 2.06.94-2.06 2.06-.94-2.06-.94-.94-2.06-.94 2.06-2.06.94z\"/><path d=\"M17.41 7.96l-1.37-1.37c-.4-.4-.92-.59-1.43-.59-.52 0-1.04.2-1.43.59L10.3 9.45l-7.72 7.72c-.78.78-.78 2.05 0 2.83L4 21.41c.39.39.9.59 1.41.59.51 0 1.02-.2 1.41-.59l7.78-7.78 2.81-2.81c.8-.78.8-2.07 0-2.86zM5.41 20L4 18.59l7.72-7.72 1.47 1.35L5.41 20z\"/>\n",
              "  </svg>\n",
              "      </button>\n",
              "      \n",
              "  <style>\n",
              "    .colab-df-container {\n",
              "      display:flex;\n",
              "      flex-wrap:wrap;\n",
              "      gap: 12px;\n",
              "    }\n",
              "\n",
              "    .colab-df-convert {\n",
              "      background-color: #E8F0FE;\n",
              "      border: none;\n",
              "      border-radius: 50%;\n",
              "      cursor: pointer;\n",
              "      display: none;\n",
              "      fill: #1967D2;\n",
              "      height: 32px;\n",
              "      padding: 0 0 0 0;\n",
              "      width: 32px;\n",
              "    }\n",
              "\n",
              "    .colab-df-convert:hover {\n",
              "      background-color: #E2EBFA;\n",
              "      box-shadow: 0px 1px 2px rgba(60, 64, 67, 0.3), 0px 1px 3px 1px rgba(60, 64, 67, 0.15);\n",
              "      fill: #174EA6;\n",
              "    }\n",
              "\n",
              "    [theme=dark] .colab-df-convert {\n",
              "      background-color: #3B4455;\n",
              "      fill: #D2E3FC;\n",
              "    }\n",
              "\n",
              "    [theme=dark] .colab-df-convert:hover {\n",
              "      background-color: #434B5C;\n",
              "      box-shadow: 0px 1px 3px 1px rgba(0, 0, 0, 0.15);\n",
              "      filter: drop-shadow(0px 1px 2px rgba(0, 0, 0, 0.3));\n",
              "      fill: #FFFFFF;\n",
              "    }\n",
              "  </style>\n",
              "\n",
              "      <script>\n",
              "        const buttonEl =\n",
              "          document.querySelector('#df-f48fa316-999b-4bd5-bb65-855470a4d320 button.colab-df-convert');\n",
              "        buttonEl.style.display =\n",
              "          google.colab.kernel.accessAllowed ? 'block' : 'none';\n",
              "\n",
              "        async function convertToInteractive(key) {\n",
              "          const element = document.querySelector('#df-f48fa316-999b-4bd5-bb65-855470a4d320');\n",
              "          const dataTable =\n",
              "            await google.colab.kernel.invokeFunction('convertToInteractive',\n",
              "                                                     [key], {});\n",
              "          if (!dataTable) return;\n",
              "\n",
              "          const docLinkHtml = 'Like what you see? Visit the ' +\n",
              "            '<a target=\"_blank\" href=https://colab.research.google.com/notebooks/data_table.ipynb>data table notebook</a>'\n",
              "            + ' to learn more about interactive tables.';\n",
              "          element.innerHTML = '';\n",
              "          dataTable['output_type'] = 'display_data';\n",
              "          await google.colab.output.renderOutput(dataTable, element);\n",
              "          const docLink = document.createElement('div');\n",
              "          docLink.innerHTML = docLinkHtml;\n",
              "          element.appendChild(docLink);\n",
              "        }\n",
              "      </script>\n",
              "    </div>\n",
              "  </div>\n",
              "  "
            ]
          },
          "metadata": {},
          "execution_count": 179
        }
      ]
    },
    {
      "cell_type": "markdown",
      "source": [
        "#Gridsearch CV"
      ],
      "metadata": {
        "id": "lEOWrZklLyyz"
      }
    },
    {
      "cell_type": "code",
      "source": [
        "reg_tree.get_params()"
      ],
      "metadata": {
        "colab": {
          "base_uri": "https://localhost:8080/"
        },
        "id": "QcLIOT-TMKTv",
        "outputId": "419580b6-fff2-4cce-e1ca-c64de950b5e1"
      },
      "execution_count": 180,
      "outputs": [
        {
          "output_type": "execute_result",
          "data": {
            "text/plain": [
              "{'ccp_alpha': 0.0,\n",
              " 'criterion': 'squared_error',\n",
              " 'max_depth': None,\n",
              " 'max_features': None,\n",
              " 'max_leaf_nodes': None,\n",
              " 'min_impurity_decrease': 0.0,\n",
              " 'min_samples_leaf': 1,\n",
              " 'min_samples_split': 19,\n",
              " 'min_weight_fraction_leaf': 0.0,\n",
              " 'random_state': 42,\n",
              " 'splitter': 'best'}"
            ]
          },
          "metadata": {},
          "execution_count": 180
        }
      ]
    },
    {
      "cell_type": "code",
      "source": [
        "#Param Grid\n",
        "param_grid = {\"max_depth\": range(5, 10),\n",
        "              \"min_samples_leaf\": range(15, 20), \n",
        "              \"max_leaf_nodes\" : range(10, 20), \n",
        "              \"min_samples_split\" : range(15, 20)}\n",
        "          "
      ],
      "metadata": {
        "id": "n2yrZ7YkL3UG"
      },
      "execution_count": 181,
      "outputs": []
    },
    {
      "cell_type": "code",
      "source": [
        "from pandas.core.common import random_state\n",
        "reg_tree_gridsearch = GridSearchCV(reg_tree, param_grid = param_grid)\n",
        "\n",
        "reg_tree_gridsearch.fit(x_train_processed, y_train)\n",
        "print(\"Best Params\")\n",
        "print(reg_tree_gridsearch.best_params_)\n",
        "best_pipe = reg_tree_gridsearch.best_estimator_\n",
        "print(f\"Accuracy of best RF Model is: {best_pipe.score(x_test_processed, y_test)}\");"
      ],
      "metadata": {
        "colab": {
          "base_uri": "https://localhost:8080/"
        },
        "id": "A4z3sKFjMBn4",
        "outputId": "9b473048-9ffc-4254-86b3-5ea223a644ee"
      },
      "execution_count": 182,
      "outputs": [
        {
          "output_type": "stream",
          "name": "stdout",
          "text": [
            "Best Params\n",
            "{'max_depth': 5, 'max_leaf_nodes': 19, 'min_samples_leaf': 17, 'min_samples_split': 15}\n",
            "Accuracy of best RF Model is: 0.5959102015926536\n"
          ]
        }
      ]
    },
    {
      "cell_type": "markdown",
      "source": [
        "###Optimized Model with r2 score"
      ],
      "metadata": {
        "id": "maZzVUOLslwm"
      }
    },
    {
      "cell_type": "code",
      "source": [
        "reg_tree_new = DecisionTreeRegressor(min_samples_split = 15, max_depth = 5, max_leaf_nodes = 19, min_samples_leaf = 17, random_state = 42)\n",
        "reg_tree_new.fit(x_train_processed, y_train)\n",
        "\n",
        "train_score_new = reg_tree_new.score(x_train_processed, y_train)\n",
        "test_score_new = reg_tree_new.score(x_test_processed, y_test)\n",
        "print(train_score_new)\n",
        "print(test_score_new)"
      ],
      "metadata": {
        "colab": {
          "base_uri": "https://localhost:8080/"
        },
        "id": "3vm8fPKasno5",
        "outputId": "18857895-90f9-4f1d-d444-728ff47b4a06"
      },
      "execution_count": 188,
      "outputs": [
        {
          "output_type": "stream",
          "name": "stdout",
          "text": [
            "0.6034529826920318\n",
            "0.5959102015926536\n"
          ]
        }
      ]
    },
    {
      "cell_type": "markdown",
      "source": [
        "###Optimized RMSE"
      ],
      "metadata": {
        "id": "w2hmHkPpwBVr"
      }
    },
    {
      "cell_type": "code",
      "source": [
        "reg_train_pred = reg_tree_new.predict(x_train_processed)\n",
        "reg_test_pred = reg_tree_new.predict(x_test_processed)"
      ],
      "metadata": {
        "id": "mQkKZTQs1plu"
      },
      "execution_count": 189,
      "outputs": []
    },
    {
      "cell_type": "code",
      "source": [
        "reg_train_MSE = mean_squared_error(y_train, reg_train_pred)\n",
        "reg_test_MSE = mean_squared_error(y_test, reg_test_pred)\n",
        "print(reg_train_MSE)\n",
        "print(reg_test_MSE)"
      ],
      "metadata": {
        "colab": {
          "base_uri": "https://localhost:8080/"
        },
        "id": "uXe8SHkMwFuE",
        "outputId": "d1929786-b8ea-41d7-d4db-691dacd72705"
      },
      "execution_count": 190,
      "outputs": [
        {
          "output_type": "stream",
          "name": "stdout",
          "text": [
            "1173563.3324850583\n",
            "1114874.5760402384\n"
          ]
        }
      ]
    },
    {
      "cell_type": "code",
      "source": [
        "reg_train_RMSE = np.sqrt(reg_train_MSE)\n",
        "reg_test_RMSE = np.sqrt(reg_test_MSE)\n",
        "print(reg_train_RMSE)\n",
        "print(reg_test_RMSE)"
      ],
      "metadata": {
        "colab": {
          "base_uri": "https://localhost:8080/"
        },
        "id": "RnaWiERh2TdF",
        "outputId": "20b1618b-485b-4f2d-d8f1-b804406fcd1d"
      },
      "execution_count": 191,
      "outputs": [
        {
          "output_type": "stream",
          "name": "stdout",
          "text": [
            "1083.3112814353308\n",
            "1055.8762124606455\n"
          ]
        }
      ]
    },
    {
      "cell_type": "markdown",
      "source": [
        "#Conclusion\n",
        "\n"
      ],
      "metadata": {
        "id": "ThENlCjJvuCZ"
      }
    },
    {
      "cell_type": "markdown",
      "source": [
        "Viewing these two models, we can see that we get consistent answers from both models. However, both models have an r score that represents only half of the data, and both models have an RMSE that represents over a million dollars in error. Our model is fitting equally on both training and test data sets, so we do not have to worry about under/overfitting, the model should improve with additional data. "
      ],
      "metadata": {
        "id": "Z3ABJfAR58Cf"
      }
    }
  ]
}
